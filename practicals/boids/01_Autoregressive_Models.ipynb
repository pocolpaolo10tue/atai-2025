{
  "cells": [
    {
      "cell_type": "code",
      "source": [
        "# Clone and cd so relative paths match the repo layout\n",
        "REPO_URL = \"https://github.com/pocolpaolo10tue/atai-2025.git\"\n",
        "REPO_DIR = \"atai-2025\"\n",
        "NB_SUBDIR = \"practicals/CFD\"   # folder that contains this notebook\n",
        "\n",
        "from pathlib import Path\n",
        "import os, sys\n",
        "repo_path = Path(\"/content\")/REPO_DIR\n",
        "subdir_path = repo_path/NB_SUBDIR\n",
        "\n",
        "if not repo_path.exists():\n",
        "    !git clone --depth 1 --branch main {REPO_URL} {repo_path}\n",
        "\n",
        "assert subdir_path.exists(), f\"Missing: {subdir_path}\"\n",
        "%cd {subdir_path}\n",
        "print(\"CWD:\", os.getcwd())"
      ],
      "metadata": {
        "colab": {
          "base_uri": "https://localhost:8080/"
        },
        "id": "hEtELkHi72TF",
        "outputId": "271d8463-d8bf-4308-de54-59495cde8f8d"
      },
      "execution_count": 4,
      "outputs": [
        {
          "output_type": "stream",
          "name": "stdout",
          "text": [
            "Cloning into '/content/atai-2025'...\n",
            "remote: Enumerating objects: 92, done.\u001b[K\n",
            "remote: Counting objects: 100% (92/92), done.\u001b[K\n",
            "remote: Compressing objects: 100% (86/86), done.\u001b[K\n",
            "remote: Total 92 (delta 0), reused 86 (delta 0), pack-reused 0 (from 0)\u001b[K\n",
            "Receiving objects: 100% (92/92), 1.82 GiB | 16.56 MiB/s, done.\n",
            "Updating files: 100% (76/76), done.\n",
            "/content/atai-2025/practicals/CFD\n",
            "CWD: /content/atai-2025/practicals/CFD\n"
          ]
        }
      ]
    },
    {
      "cell_type": "markdown",
      "metadata": {
        "id": "cJOdehb45yre"
      },
      "source": [
        "# Autoregressive Models\n",
        "\n",
        "In this practical, we'll go over the following topics:\n",
        "- Autoregressive models and when to use them\n",
        "- Implementing equivariances in Autoregressive GNNs\n",
        "- Evaluating scientific AI models\n",
        "\n",
        "But first, a short introduction on the dataset used for this practical.\n",
        "\n",
        "![Boids gif](https://github.com/pocolpaolo10tue/atai-2025/blob/main/practicals/boids/figures/boids.gif?raw=1)\n",
        "\n",
        "## Boids (by Craig Reynolds)\n",
        "\n",
        "The Boids algorithm, developed by Craig Reynolds [2], aims to replicate the behavior of flocking birds.\n",
        "\n",
        "The simplest setting, used in this practical, follows three simple rules:\n",
        "\n",
        "1. Separation: Each boid should steer away from crowding local flockmates (avoiding collisions)\n",
        "2. Alignment: Each boid should steer towards the average heading of local flockmates\n",
        "3. Cohesion: Each boid should steer towards the average position of local flockmates\n",
        "\n",
        "With some parameter tuning, these rules allow for some surprisingly realistic behavior. A gif of one of the simulations is shown above.\n",
        "\n",
        "### Implementation details\n",
        "\n",
        "Our dataset consists of 1000 samples of Boids simulations. Each simulation has 25 Boids and continues for 1000 timesteps. The Boids fly around in a 2D grid of 1000 x 1000 units.\n",
        "\n",
        "In our simulations, Boids steer away from eachother (Separation) if they are within 16 units of eachother. Boids steer towards the average heading/position of all (local) flockmates within 40 units.*\n",
        "Finally, we use periodic boundary conditions; Boids cannot leave the screen, they re-enter on the other side (pacman style).\n",
        "\n",
        "* We use Euclidean distance (with PBC) here to compute the distance between boids. For a more detailed explanation, visit [The minimum image convention](https://en.wikibooks.org/wiki/Molecular_Simulation/Periodic_Boundary_Conditions) section of the wikibooks page on PBC.\n",
        "\n",
        "## Problem setting\n",
        "\n",
        "Boids simulations feature complex interactions between multiple actors (nodes). The simulation can be chaotic and very sensitive to initial conditions.\n",
        "\n",
        "\n",
        "This makes it an interesting playground for the models/frameworks discussed in the course. In this practical, we will implement an AR model from scratch, then gradually introduce equivariances and training/evaluation methods.\n"
      ]
    },
    {
      "cell_type": "code",
      "source": [
        "!pip install torch_geometric"
      ],
      "metadata": {
        "colab": {
          "base_uri": "https://localhost:8080/"
        },
        "id": "lW8_vGCH86gz",
        "outputId": "ce16b675-db0e-45bd-a1f3-b1383ec437fd"
      },
      "execution_count": 5,
      "outputs": [
        {
          "output_type": "stream",
          "name": "stdout",
          "text": [
            "Collecting torch_geometric\n",
            "  Downloading torch_geometric-2.6.1-py3-none-any.whl.metadata (63 kB)\n",
            "\u001b[?25l     \u001b[90m━━━━━━━━━━━━━━━━━━━━━━━━━━━━━━━━━━━━━━━━\u001b[0m \u001b[32m0.0/63.1 kB\u001b[0m \u001b[31m?\u001b[0m eta \u001b[36m-:--:--\u001b[0m\r\u001b[2K     \u001b[90m━━━━━━━━━━━━━━━━━━━━━━━━━━━━━━━━━━━━━━━━\u001b[0m \u001b[32m63.1/63.1 kB\u001b[0m \u001b[31m6.0 MB/s\u001b[0m eta \u001b[36m0:00:00\u001b[0m\n",
            "\u001b[?25hRequirement already satisfied: aiohttp in /usr/local/lib/python3.12/dist-packages (from torch_geometric) (3.12.15)\n",
            "Requirement already satisfied: fsspec in /usr/local/lib/python3.12/dist-packages (from torch_geometric) (2025.3.0)\n",
            "Requirement already satisfied: jinja2 in /usr/local/lib/python3.12/dist-packages (from torch_geometric) (3.1.6)\n",
            "Requirement already satisfied: numpy in /usr/local/lib/python3.12/dist-packages (from torch_geometric) (2.0.2)\n",
            "Requirement already satisfied: psutil>=5.8.0 in /usr/local/lib/python3.12/dist-packages (from torch_geometric) (5.9.5)\n",
            "Requirement already satisfied: pyparsing in /usr/local/lib/python3.12/dist-packages (from torch_geometric) (3.2.4)\n",
            "Requirement already satisfied: requests in /usr/local/lib/python3.12/dist-packages (from torch_geometric) (2.32.4)\n",
            "Requirement already satisfied: tqdm in /usr/local/lib/python3.12/dist-packages (from torch_geometric) (4.67.1)\n",
            "Requirement already satisfied: aiohappyeyeballs>=2.5.0 in /usr/local/lib/python3.12/dist-packages (from aiohttp->torch_geometric) (2.6.1)\n",
            "Requirement already satisfied: aiosignal>=1.4.0 in /usr/local/lib/python3.12/dist-packages (from aiohttp->torch_geometric) (1.4.0)\n",
            "Requirement already satisfied: attrs>=17.3.0 in /usr/local/lib/python3.12/dist-packages (from aiohttp->torch_geometric) (25.3.0)\n",
            "Requirement already satisfied: frozenlist>=1.1.1 in /usr/local/lib/python3.12/dist-packages (from aiohttp->torch_geometric) (1.7.0)\n",
            "Requirement already satisfied: multidict<7.0,>=4.5 in /usr/local/lib/python3.12/dist-packages (from aiohttp->torch_geometric) (6.6.4)\n",
            "Requirement already satisfied: propcache>=0.2.0 in /usr/local/lib/python3.12/dist-packages (from aiohttp->torch_geometric) (0.3.2)\n",
            "Requirement already satisfied: yarl<2.0,>=1.17.0 in /usr/local/lib/python3.12/dist-packages (from aiohttp->torch_geometric) (1.20.1)\n",
            "Requirement already satisfied: MarkupSafe>=2.0 in /usr/local/lib/python3.12/dist-packages (from jinja2->torch_geometric) (3.0.2)\n",
            "Requirement already satisfied: charset_normalizer<4,>=2 in /usr/local/lib/python3.12/dist-packages (from requests->torch_geometric) (3.4.3)\n",
            "Requirement already satisfied: idna<4,>=2.5 in /usr/local/lib/python3.12/dist-packages (from requests->torch_geometric) (3.10)\n",
            "Requirement already satisfied: urllib3<3,>=1.21.1 in /usr/local/lib/python3.12/dist-packages (from requests->torch_geometric) (2.5.0)\n",
            "Requirement already satisfied: certifi>=2017.4.17 in /usr/local/lib/python3.12/dist-packages (from requests->torch_geometric) (2025.8.3)\n",
            "Requirement already satisfied: typing-extensions>=4.2 in /usr/local/lib/python3.12/dist-packages (from aiosignal>=1.4.0->aiohttp->torch_geometric) (4.15.0)\n",
            "Downloading torch_geometric-2.6.1-py3-none-any.whl (1.1 MB)\n",
            "\u001b[?25l   \u001b[90m━━━━━━━━━━━━━━━━━━━━━━━━━━━━━━━━━━━━━━━━\u001b[0m \u001b[32m0.0/1.1 MB\u001b[0m \u001b[31m?\u001b[0m eta \u001b[36m-:--:--\u001b[0m\r\u001b[2K   \u001b[90m━━━━━━━━━━━━━━━━━━━━━━━━━━━━━━━━━━━━━━━━\u001b[0m \u001b[32m1.1/1.1 MB\u001b[0m \u001b[31m65.5 MB/s\u001b[0m eta \u001b[36m0:00:00\u001b[0m\n",
            "\u001b[?25hInstalling collected packages: torch_geometric\n",
            "Successfully installed torch_geometric-2.6.1\n"
          ]
        }
      ]
    },
    {
      "cell_type": "code",
      "source": [],
      "metadata": {
        "id": "kwOtG6tH_FoA"
      },
      "execution_count": 5,
      "outputs": []
    },
    {
      "cell_type": "code",
      "execution_count": 6,
      "metadata": {
        "id": "5TWhG8Qj5yrf"
      },
      "outputs": [],
      "source": [
        "import torch\n",
        "import torch_geometric\n",
        "from torch_geometric.data import Data, DataLoader, InMemoryDataset\n",
        "import numpy as np\n",
        "import matplotlib.pyplot as plt\n",
        "import os"
      ]
    },
    {
      "cell_type": "markdown",
      "metadata": {
        "id": "YqYMgX7q5yrg"
      },
      "source": [
        "## Data exploration\n",
        "\n",
        "First let's look at the data structure, and some statistics."
      ]
    },
    {
      "cell_type": "code",
      "execution_count": 7,
      "metadata": {
        "colab": {
          "base_uri": "https://localhost:8080/"
        },
        "id": "IyvUquwA5yrg",
        "outputId": "d48b79f0-9cb3-4f8f-c6d0-b32d33d9d78c"
      },
      "outputs": [
        {
          "output_type": "stream",
          "name": "stdout",
          "text": [
            "26\n"
          ]
        }
      ],
      "source": [
        "trajectories = [np.load(f\"../../data/boids/raw/{f}\") for f in os.listdir(\"../../data/boids/raw\") if f.endswith(\".npy\")]\n",
        "print(len(trajectories))"
      ]
    },
    {
      "cell_type": "code",
      "execution_count": 8,
      "metadata": {
        "colab": {
          "base_uri": "https://localhost:8080/"
        },
        "id": "NWzmv1vO5yrg",
        "outputId": "a189a7e0-be2e-40c2-ae56-1f50efaf1b63"
      },
      "outputs": [
        {
          "output_type": "stream",
          "name": "stdout",
          "text": [
            "Single trajectory shape:\n",
            "(1000, 25, 4)\n",
            "The axes and their cardinalities; (Timesteps:1000, Boids:25, (Position X, Position Y, Velocity x, Velocity y):4)\n"
          ]
        }
      ],
      "source": [
        "print(\"Single trajectory shape:\")\n",
        "print(trajectories[0].shape)\n",
        "print(\"The axes and their cardinalities; (Timesteps:1000, Boids:25, (Position X, Position Y, Velocity x, Velocity y):4)\")"
      ]
    },
    {
      "cell_type": "code",
      "execution_count": 9,
      "metadata": {
        "colab": {
          "base_uri": "https://localhost:8080/"
        },
        "id": "HoxdeR8U5yrg",
        "outputId": "01c4cb55-a48c-4277-db8c-e1391d01dd6e"
      },
      "outputs": [
        {
          "output_type": "stream",
          "name": "stdout",
          "text": [
            "Position mean, std, min, max:\n",
            "500.32 290.61 0.0 1000.0\n",
            "\n",
            "Velocity mean, std, min, max:\n",
            "-0.35 2.96 -6.0 6.0\n"
          ]
        }
      ],
      "source": [
        "# Print the mean, std, min and max of the boid positions, velocities\n",
        "positions = np.array([t[:, :, :2] for t in trajectories])\n",
        "velocities = np.array([t[:, :, 2:] for t in trajectories])\n",
        "\n",
        "print(\"Position mean, std, min, max:\")\n",
        "# Round to 2 decimal places\n",
        "print(round(np.mean(positions),2), round(np.std(positions),2), round(np.min(positions), 2), round(np.max(positions), 2))\n",
        "print()\n",
        "print(\"Velocity mean, std, min, max:\")\n",
        "# Round to 2 decimal places\n",
        "print(round(np.mean(velocities),2), round(np.std(velocities),2), round(np.min(velocities), 2), round(np.max(velocities), 2))"
      ]
    },
    {
      "cell_type": "code",
      "execution_count": 10,
      "metadata": {
        "id": "xF--4a8w5yrh"
      },
      "outputs": [],
      "source": [
        "def plot_state(trajectory, timestep):\n",
        "    fig, ax = plt.subplots()\n",
        "    # Plot dots for the boids\n",
        "    ax.scatter(trajectory[timestep, :, 0], trajectory[timestep, :, 1])\n",
        "    # plot the boid velocities as arrows\n",
        "    for i in range(trajectory.shape[1]):\n",
        "        # NOTE: The arrows are made larger for effect\n",
        "        ax.arrow(trajectory[timestep, i, 0], trajectory[timestep, i, 1], trajectory[timestep, i, 2]*5, trajectory[timestep, i, 3]*5)\n",
        "    return ax"
      ]
    },
    {
      "cell_type": "code",
      "execution_count": 11,
      "metadata": {
        "colab": {
          "base_uri": "https://localhost:8080/",
          "height": 264
        },
        "id": "nmgGut3n5yrh",
        "outputId": "4d6e425e-bcea-4631-8753-c8850192ceae"
      },
      "outputs": [
        {
          "output_type": "display_data",
          "data": {
            "text/plain": [
              "<Figure size 2000x400 with 5 Axes>"
            ],
            "image/png": "[encoded data removed]"
          },
          "metadata": {}
        }
      ],
      "source": [
        "# Plot timesteps 0, 250, 500, 750, 999 for the first trajectory\n",
        "trajectory = trajectories[0]\n",
        "fig, axs = plt.subplots(1, 5, figsize=(20, 4))\n",
        "for i, t in enumerate([0, 250, 500, 750, 999]):\n",
        "    axs[i].set_title(f\"Timestep {t}\")\n",
        "    # Plot dots for the boids\n",
        "    axs[i].scatter(trajectory[t, :, 0], trajectory[t, :, 1])\n",
        "    # plot the boid velocities as arrows\n",
        "    for j in range(trajectory.shape[1]):\n",
        "        # NOTE: The arrows are made larger for effect\n",
        "        axs[i].arrow(trajectory[t, j, 0], trajectory[t, j, 1], trajectory[t, j, 2]*5, trajectory[t, j, 3]*5)\n",
        "plt.show()"
      ]
    },
    {
      "cell_type": "markdown",
      "metadata": {
        "id": "7gUyd0J45yrh"
      },
      "source": [
        "In the plot above, you can see that after some warmup time, the boids start to form flocks. Flocking behavior is a form of inter-node communication, which we will come back to again later.\n",
        "\n",
        "Thinking back to the Geometric Deep Learning framework, we can identify the following symmetries in the data:\n",
        "\n",
        "- The boids are equivariant to permutations, ie it does not matter in which order we compute the update rules for the boids.\n",
        "- Local flocks of boids are equivariant to translation, rotation and reflection.\n",
        "\n",
        "Following these symmetries, it makes sense to model the boids using a Graph Neural Network (GNN). Specifically, since we are dealing with inter-node communication, we will be implementing a Message Passing GNN here.\n",
        "\n",
        "But first, we create a `torch_geometric` InMemoryDataset object, to model the data as a graph."
      ]
    },
    {
      "cell_type": "code",
      "execution_count": 12,
      "metadata": {
        "id": "0ddt6I-u5yrh"
      },
      "outputs": [],
      "source": [
        "class AR_Boids_Dataset(InMemoryDataset):\n",
        "    def __init__(self, raw_data_path, processed_data_path, root=None, transform=None, pre_transform=None, post_transform=None, solution_idx_range=(0, 25), timesteps=1000, processed_file_name=\"AR1_Boids.pt\"):\n",
        "        self.raw_data_path = raw_data_path\n",
        "        self.processed_data_path = processed_data_path\n",
        "        self.solution_idx_range = solution_idx_range\n",
        "        self.timesteps = timesteps\n",
        "        self.processed_file_name = processed_file_name\n",
        "        self.pre_transform = pre_transform\n",
        "        self.transform = transform\n",
        "        self.post_transform = post_transform\n",
        "        super(AR_Boids_Dataset, self).__init__(root, transform, pre_transform)\n",
        "        # Add weights_only=False to handle potential unpickling issues with newer PyTorch versions\n",
        "        self.data, self.slices = torch.load(self.processed_paths[0], weights_only=False)\n",
        "\n",
        "    @property\n",
        "    def processed_file_names(self):\n",
        "        return [self.processed_file_name]\n",
        "\n",
        "    @property\n",
        "    def raw_file_names(self):\n",
        "        return [pfn for pfn in os.listdir(self.raw_data_path) if (self.solution_idx_range[0] <= int(pfn.split(\"_\")[-1][:-4]) < self.solution_idx_range[1])]\n",
        "\n",
        "    def download(self):\n",
        "        pass\n",
        "\n",
        "    def __len__(self):\n",
        "        return (self.timesteps - 1) * (self.solution_idx_range[1] - self.solution_idx_range[0])\n",
        "\n",
        "    def process(self):\n",
        "        data_list = []\n",
        "        for idx, raw_path in enumerate(self.raw_file_names):\n",
        "            trajectory = np.load(self.raw_data_path + raw_path)\n",
        "\n",
        "            if self.transform is not None:\n",
        "                trajectory = self.transform(trajectory)\n",
        "\n",
        "            for t in range(trajectory.shape[0] - 1):\n",
        "                x = torch.tensor(trajectory[t], dtype=torch.float)\n",
        "                y_temp = torch.tensor(trajectory[t+1], dtype=torch.float)\n",
        "                # y_temp is (position x, position y, velocity x, velocity y) for the next timestep\n",
        "                # However, we want delta position and delta velocity\n",
        "                # Luckily, the delta poisition is just the velocity from the next timestep, and the delta velocity is the acceleration\n",
        "                # So we can just take the last two elements of y to get the delta velocity\n",
        "                # First we copy the last two columns of y to the first two columns of y\n",
        "                y = y_temp.clone()\n",
        "                y[:, :2] = y_temp[:, 2:]\n",
        "                # Then we calculate the acceleration\n",
        "                y[:, 2:] = y_temp[:, 2:] - x[:, 2:]    # (V_x ^ (t+1), V_y ^ (t+1), a_x, a_y)\n",
        "\n",
        "                # fully connected graph\n",
        "                edge_index = torch.tensor([[i, j] for i in range(trajectory.shape[1]) for j in range(trajectory.shape[1]) if i != j], dtype=torch.long).t().contiguous()\n",
        "\n",
        "                if self.post_transform is not None:\n",
        "                    data = self.post_transform(data)\n",
        "\n",
        "                data = Data(x=x, y=y, edge_index=edge_index)\n",
        "                data_list.append(data)\n",
        "        data, slices = self.collate(data_list)\n",
        "        torch.save((data, slices), self.processed_data_path+self.processed_file_name)\n",
        "\n",
        "    def __getitem__(self, idx):\n",
        "        return self.get(idx)\n",
        "\n",
        "    def __repr__(self):\n",
        "        return f'{self.__class__.__name__}({len(self)})'"
      ]
    },
    {
      "cell_type": "code",
      "execution_count": 13,
      "metadata": {
        "colab": {
          "base_uri": "https://localhost:8080/"
        },
        "id": "I7U7PpNI5yrh",
        "outputId": "7c508c9c-cb02-49fc-c86a-9a2fb9a8875c"
      },
      "outputs": [
        {
          "output_type": "stream",
          "name": "stderr",
          "text": [
            "Processing...\n",
            "Done!\n",
            "Processing...\n"
          ]
        },
        {
          "output_type": "stream",
          "name": "stdout",
          "text": [
            "AR_Boids_Dataset(14985)\n",
            "AR_Boids_Dataset(8991)\n",
            "Data(x=[25, 4], edge_index=[2, 600], y=[25, 4])\n",
            "<bound method BaseData.keys of Data(x=[25, 4], edge_index=[2, 600], y=[25, 4])>\n",
            "Pos x, Pos y, Vel x, Vel y\n",
            "tensor([864., 185.,   3.,   4.])\n"
          ]
        },
        {
          "output_type": "stream",
          "name": "stderr",
          "text": [
            "Done!\n"
          ]
        }
      ],
      "source": [
        "train_dataset = AR_Boids_Dataset(raw_data_path=\"../../data/boids/raw/\", processed_data_path=\"../../data/boids/processed/\", root=\"../../data/boids/\", solution_idx_range=(0, 15), timesteps=1000, processed_file_name=\"AR1_Boids.pt\")\n",
        "validation_dataset = AR_Boids_Dataset(raw_data_path=\"../../data/boids/raw/\", processed_data_path=\"../../data/boids/processed/\", root=\"../../data/boids/\", solution_idx_range=(16, 25), timesteps=1000, processed_file_name=\"AR1_VAL_Boids.pt\")\n",
        "\n",
        "print(train_dataset)\n",
        "print(validation_dataset)\n",
        "\n",
        "\n",
        "data_0 = train_dataset[0]\n",
        "print(data_0)\n",
        "print(data_0.keys)\n",
        "print(\"Pos x, Pos y, Vel x, Vel y\")\n",
        "print(data_0.x[0,:])"
      ]
    },
    {
      "cell_type": "markdown",
      "metadata": {
        "id": "kR9ZKzhC5yrh"
      },
      "source": [
        "## Autoregressive Models\n",
        "In general, when dealing with simulations spanning multiple timesteps, we can define the learning problem as follows.\n",
        "\n",
        "Let $X^{0:T-1}$ denote the states spanning across timesteps $t=0$ through $t=T-1$. Given the initial state $X^0$, our goal is to accurately predict the future states $X^{1:T-1}$. In the probabilistic case, we want to learn a model with parameters $\\theta$ for the probability distribution $P_\\theta(X^{1:T-1}|X^0)$.*\n",
        "\n",
        "In some systems, such as in the Boids setting, the next state X^{t+1} is only dependent on the current state X^t. Such systems are memoryless, and are often said to be _Markovian_. The Markov property allows us to rewrite the learning task to $P_\\theta(X^{1:T-1}|X^0) = \\prod_{t=0}^{T-2} P_\\theta(X^{t+1} | X^t)$\n",
        "\n",
        "Here, $P_\\theta(X^{t+1} | X^t)$ is the _Autoregressive model_ - literally meaning it is used to autoregressively construct the full trajectory of the system. Note that this model is autoregressive in time; not space.\n",
        "\n",
        "*: In this practical, we will not be building a probabilistic model. So instead of parameterizing a distribution, we learn a function $f_\\theta: X^t \\rarr X^{t+1}$."
      ]
    },
    {
      "cell_type": "markdown",
      "metadata": {
        "id": "QWyQEiOO5yrh"
      },
      "source": [
        "### Autoregressive set model\n",
        "\n",
        "Below, we create the simplest AR model for the Boids system; a fully connected GNN (essentially a set model).\n",
        "\n",
        "Given a fully connected graph $X^t$, representing the Boids system at time $t$; it learns to predict the next state of the system $X^{t+1}$.\n",
        "\n",
        "Note here that we use all features from the dataset as node features. This causes the model to not be equivariant to some group actions, that are relevant in the Boids setting.\n",
        "\n",
        "---\n",
        "\n",
        "Tick the equivariance(s) of this model:\n",
        "\n",
        "- <input\n",
        "      type=\"checkbox\"\n",
        "      id=\"eq0\"\n",
        "      name=\"perm\"\n",
        "      value=\"perm\" />\n",
        "    <label for=\"eq1\">Permutational Equivariance</label>\n",
        "\n",
        "- <input\n",
        "      type=\"checkbox\"\n",
        "      id=\"eq1\"\n",
        "      name=\"space\"\n",
        "      value=\"space\" />\n",
        "    <label for=\"eq1\">Space Translation Equivariance</label>\n",
        "\n",
        "- <input\n",
        "      type=\"checkbox\"\n",
        "      id=\"eq2\"\n",
        "      name=\"time\"\n",
        "      value=\"time\" />\n",
        "    <label for=\"eq2\">Time Translation Equivariance</label>\n",
        "\n",
        "- <input\n",
        "      type=\"checkbox\"\n",
        "      id=\"eq3\"\n",
        "      name=\"rot\"\n",
        "      value=\"rot\" />\n",
        "    <label for=\"eq3\">Rotation/Reflection Equivariance</label>"
      ]
    },
    {
      "cell_type": "code",
      "execution_count": 14,
      "metadata": {
        "id": "D48wQCLw5yri"
      },
      "outputs": [],
      "source": [
        "class AR_Set_Model(torch.nn.Module):\n",
        "    def __init__(self, node_dim=4, emb_dim=16, out_dim=4):\n",
        "        super(AR_Set_Model, self).__init__()\n",
        "        self.node_embedding = torch.nn.Linear(node_dim, emb_dim)\n",
        "        self.conv1 = torch_geometric.nn.GCNConv(emb_dim, emb_dim)\n",
        "        self.conv2 = torch_geometric.nn.GCNConv(emb_dim, out_dim)\n",
        "\n",
        "    def forward(self, data):\n",
        "        x, edge_index = data.x, data.edge_index\n",
        "        x = self.node_embedding(x)\n",
        "        x = torch.nn.functional.relu(x)\n",
        "        x = self.conv1(x, edge_index)\n",
        "        x = torch.nn.functional.relu(x)\n",
        "        x = self.conv2(x, edge_index)\n",
        "        return x"
      ]
    },
    {
      "cell_type": "code",
      "execution_count": 15,
      "metadata": {
        "id": "J_ooCw5t5yri"
      },
      "outputs": [],
      "source": [
        "class Trainer:\n",
        "    def __init__(self, model, train_dataset, validation_dataset, batch_size=1, lr=0.0001, epochs=100, loss_fn=torch.nn.MSELoss(), model_name= \"01-AR-Set-Model.pt\"):\n",
        "        \"\"\"\n",
        "        Simple Trainer class to train a PyTorch (geometric) model on a dataset.\n",
        "\n",
        "        Args:\n",
        "            model: PyTorch model to train\n",
        "            train_dataset: PyTorch dataset to train on\n",
        "            validation_dataset: PyTorch dataset to validate on\n",
        "            batch_size: Batch size for training\n",
        "            lr: Learning rate\n",
        "            epochs: Number of epochs to train for\n",
        "            loss_fn: Loss function to use\n",
        "        \"\"\"\n",
        "        self.model = model\n",
        "        self.train_dataset = train_dataset\n",
        "        self.validation_dataset = validation_dataset\n",
        "        self.batch_size = batch_size\n",
        "        self.lr = lr\n",
        "        self.epochs = epochs\n",
        "        self.loss_fn = loss_fn\n",
        "        self.model_name = model_name\n",
        "\n",
        "        self.device = torch.device('cuda' if torch.cuda.is_available() else 'cpu')\n",
        "        print(\"Using device:\", self.device)\n",
        "        self.model.to(self.device)\n",
        "        self.optimizer = torch.optim.Adam(self.model.parameters(), lr=self.lr)\n",
        "\n",
        "        self.train_loader = self.make_data_loader(self.train_dataset)\n",
        "        self.validation_loader = self.make_data_loader(self.validation_dataset, shuffle=False)\n",
        "\n",
        "    def make_data_loader(self, dataset, shuffle=True):\n",
        "        return DataLoader(dataset, batch_size=self.batch_size, shuffle=shuffle)\n",
        "\n",
        "    def train_loop(self):\n",
        "        \"\"\"\n",
        "        Train loop for the model\n",
        "        \"\"\"\n",
        "        best_model_loss = np.inf\n",
        "        for epoch in range(self.epochs):\n",
        "            # Train the model\n",
        "            self.model.train()\n",
        "            mean_train_loss = 0\n",
        "            for i, data in enumerate(self.train_loader):\n",
        "                data = self.train_dataset[i].to(self.device)\n",
        "                self.optimizer.zero_grad()\n",
        "                out = self.model(data)\n",
        "                loss = self.loss_fn(out, data.y)\n",
        "                loss.backward()\n",
        "                self.optimizer.step()\n",
        "                mean_train_loss += loss.item()\n",
        "            mean_train_loss /= i\n",
        "\n",
        "            # Validate the model\n",
        "            self.model.eval()\n",
        "            mean_val_loss = 0\n",
        "            with torch.no_grad():\n",
        "                for i, data in enumerate(self.validation_loader):\n",
        "                    data = self.validation_dataset[i].to(self.device)\n",
        "                    out = self.model(data)\n",
        "                    loss = self.loss_fn(out, data.y)\n",
        "                    mean_val_loss += loss.item()\n",
        "                mean_val_loss /= i\n",
        "\n",
        "            if mean_val_loss < best_model_loss:\n",
        "                best_model_loss = mean_val_loss\n",
        "                torch.save(self.model.state_dict(), f\"../../models/{self.model_name}\")\n",
        "\n",
        "            print(f\"Epoch {epoch}, Mean Train Loss: {mean_train_loss}, Mean Validation Loss: {mean_val_loss}\")\n",
        "\n"
      ]
    },
    {
      "cell_type": "code",
      "execution_count": 16,
      "metadata": {
        "colab": {
          "base_uri": "https://localhost:8080/"
        },
        "id": "uYiJFuEi5yri",
        "outputId": "3ea31124-22b4-4752-8877-4ca5826a41b4"
      },
      "outputs": [
        {
          "output_type": "stream",
          "name": "stdout",
          "text": [
            "Using device: cuda\n"
          ]
        },
        {
          "output_type": "stream",
          "name": "stderr",
          "text": [
            "/usr/local/lib/python3.12/dist-packages/torch_geometric/deprecation.py:26: UserWarning: 'data.DataLoader' is deprecated, use 'loader.DataLoader' instead\n",
            "  warnings.warn(out)\n"
          ]
        },
        {
          "output_type": "stream",
          "name": "stdout",
          "text": [
            "Epoch 0, Mean Train Loss: 1246.7216689216218, Mean Validation Loss: 145.49107149044318\n",
            "Epoch 1, Mean Train Loss: 12.815849668191705, Mean Validation Loss: 113.05256101305955\n",
            "Epoch 2, Mean Train Loss: 8.776178287683294, Mean Validation Loss: 119.13678729438612\n",
            "Epoch 3, Mean Train Loss: 7.715893123726506, Mean Validation Loss: 108.46364023933852\n",
            "Epoch 4, Mean Train Loss: 7.798002472804691, Mean Validation Loss: 104.45221660355851\n",
            "Epoch 5, Mean Train Loss: 8.378680583505279, Mean Validation Loss: 104.0570568405722\n",
            "Epoch 6, Mean Train Loss: 8.647679835287441, Mean Validation Loss: 99.29179926164853\n",
            "Epoch 7, Mean Train Loss: 8.739531174994253, Mean Validation Loss: 98.40064855186618\n",
            "Epoch 8, Mean Train Loss: 8.942527572483668, Mean Validation Loss: 82.97412280407954\n",
            "Epoch 9, Mean Train Loss: 8.316804931371275, Mean Validation Loss: 72.39769527854817\n",
            "Epoch 10, Mean Train Loss: 7.480931292545076, Mean Validation Loss: 63.087075883112945\n",
            "Epoch 11, Mean Train Loss: 7.114831796127784, Mean Validation Loss: 52.72186989924362\n",
            "Epoch 12, Mean Train Loss: 6.629708196858449, Mean Validation Loss: 47.863768068468154\n",
            "Epoch 13, Mean Train Loss: 6.320473133658446, Mean Validation Loss: 46.32821133172841\n",
            "Epoch 14, Mean Train Loss: 6.066603358646033, Mean Validation Loss: 44.871227197315896\n",
            "Epoch 15, Mean Train Loss: 5.8386585520857865, Mean Validation Loss: 37.50533724043482\n",
            "Epoch 16, Mean Train Loss: 5.535503530082255, Mean Validation Loss: 41.24850321198189\n",
            "Epoch 17, Mean Train Loss: 5.704363256740621, Mean Validation Loss: 39.17120501109775\n",
            "Epoch 18, Mean Train Loss: 5.679676449941685, Mean Validation Loss: 49.66112477250749\n",
            "Epoch 19, Mean Train Loss: 5.6541650413003, Mean Validation Loss: 50.40927928574682\n",
            "Epoch 20, Mean Train Loss: 5.5793335109360385, Mean Validation Loss: 36.10095658221631\n",
            "Epoch 21, Mean Train Loss: 5.261911643868898, Mean Validation Loss: 38.15008303658408\n",
            "Epoch 22, Mean Train Loss: 5.245475556528383, Mean Validation Loss: 38.68003648195751\n",
            "Epoch 23, Mean Train Loss: 5.19262689985315, Mean Validation Loss: 41.620109291874925\n",
            "Epoch 24, Mean Train Loss: 5.121015447444987, Mean Validation Loss: 40.45727906350249\n",
            "Epoch 25, Mean Train Loss: 5.019604433938519, Mean Validation Loss: 35.50044197496939\n",
            "Epoch 26, Mean Train Loss: 4.8360087736621615, Mean Validation Loss: 34.75608402474693\n",
            "Epoch 27, Mean Train Loss: 4.689198359855024, Mean Validation Loss: 31.629676657071204\n",
            "Epoch 28, Mean Train Loss: 4.713352812144824, Mean Validation Loss: 42.244335356293675\n",
            "Epoch 29, Mean Train Loss: 4.707599821602414, Mean Validation Loss: 33.29065580189706\n",
            "Epoch 30, Mean Train Loss: 4.575937255333912, Mean Validation Loss: 35.39988949759561\n",
            "Epoch 31, Mean Train Loss: 4.610514706172729, Mean Validation Loss: 37.893799039580834\n",
            "Epoch 32, Mean Train Loss: 4.963159129063331, Mean Validation Loss: 39.144076064560736\n",
            "Epoch 33, Mean Train Loss: 4.624624611092836, Mean Validation Loss: 34.656306294808935\n",
            "Epoch 34, Mean Train Loss: 4.538891568326466, Mean Validation Loss: 31.511921957785386\n",
            "Epoch 35, Mean Train Loss: 4.585841296957701, Mean Validation Loss: 29.843242533166602\n",
            "Epoch 36, Mean Train Loss: 4.638429536962025, Mean Validation Loss: 28.574437405950558\n",
            "Epoch 37, Mean Train Loss: 4.678744542872403, Mean Validation Loss: 27.611147864843623\n",
            "Epoch 38, Mean Train Loss: 4.680965449106101, Mean Validation Loss: 27.446725095475454\n",
            "Epoch 39, Mean Train Loss: 4.665903371028319, Mean Validation Loss: 27.64951714955582\n",
            "Epoch 40, Mean Train Loss: 4.627123356692879, Mean Validation Loss: 28.002290299611758\n",
            "Epoch 41, Mean Train Loss: 4.562233395775053, Mean Validation Loss: 28.809652976446245\n",
            "Epoch 42, Mean Train Loss: 4.520850364498703, Mean Validation Loss: 25.42103452249393\n",
            "Epoch 43, Mean Train Loss: 4.492968104131325, Mean Validation Loss: 26.785272979991095\n",
            "Epoch 44, Mean Train Loss: 4.505397560630835, Mean Validation Loss: 28.260049144391598\n",
            "Epoch 45, Mean Train Loss: 4.519210404529969, Mean Validation Loss: 32.850641162503756\n",
            "Epoch 46, Mean Train Loss: 4.535576916033739, Mean Validation Loss: 32.14783111365905\n",
            "Epoch 47, Mean Train Loss: 4.548206877211995, Mean Validation Loss: 29.07069685792456\n",
            "Epoch 48, Mean Train Loss: 4.557086243390146, Mean Validation Loss: 31.069493504793435\n",
            "Epoch 49, Mean Train Loss: 4.633383158496912, Mean Validation Loss: 32.98898726197512\n",
            "Epoch 50, Mean Train Loss: 4.704567266287042, Mean Validation Loss: 35.835380146573506\n",
            "Epoch 51, Mean Train Loss: 4.770738801660858, Mean Validation Loss: 37.300598375943764\n",
            "Epoch 52, Mean Train Loss: 4.830621250415319, Mean Validation Loss: 37.48483064507971\n",
            "Epoch 53, Mean Train Loss: 4.839133448672053, Mean Validation Loss: 36.16824000962377\n",
            "Epoch 54, Mean Train Loss: 4.816469313305327, Mean Validation Loss: 29.330898114006537\n",
            "Epoch 55, Mean Train Loss: 4.622058586837516, Mean Validation Loss: 25.28627129887643\n",
            "Epoch 56, Mean Train Loss: 4.65918460206685, Mean Validation Loss: 23.83817846904561\n",
            "Epoch 57, Mean Train Loss: 4.486559298034664, Mean Validation Loss: 18.225584684900163\n",
            "Epoch 58, Mean Train Loss: 4.2898197107880245, Mean Validation Loss: 16.158547558533964\n",
            "Epoch 59, Mean Train Loss: 4.1610508091743785, Mean Validation Loss: 15.249075495973827\n",
            "Epoch 60, Mean Train Loss: 4.094414663454841, Mean Validation Loss: 14.549755487501463\n",
            "Epoch 61, Mean Train Loss: 4.034879736510815, Mean Validation Loss: 14.542312033136085\n",
            "Epoch 62, Mean Train Loss: 3.984905126829295, Mean Validation Loss: 14.086775783121002\n",
            "Epoch 63, Mean Train Loss: 3.9225740538391913, Mean Validation Loss: 13.774977802062608\n",
            "Epoch 64, Mean Train Loss: 3.8656757654382528, Mean Validation Loss: 13.79193576191115\n",
            "Epoch 65, Mean Train Loss: 3.8183368779858102, Mean Validation Loss: 13.937976572626102\n",
            "Epoch 66, Mean Train Loss: 3.8049214897598738, Mean Validation Loss: 13.877586433108322\n",
            "Epoch 67, Mean Train Loss: 3.8566932142321844, Mean Validation Loss: 13.747512647114156\n",
            "Epoch 68, Mean Train Loss: 3.9903103819010544, Mean Validation Loss: 14.058591798067305\n",
            "Epoch 69, Mean Train Loss: 4.097499618285872, Mean Validation Loss: 14.481455182562105\n",
            "Epoch 70, Mean Train Loss: 4.104155074767231, Mean Validation Loss: 14.949514539774677\n",
            "Epoch 71, Mean Train Loss: 4.081650617729835, Mean Validation Loss: 15.81784189755855\n",
            "Epoch 72, Mean Train Loss: 4.022595160668124, Mean Validation Loss: 16.528279534643076\n",
            "Epoch 73, Mean Train Loss: 3.9818368194196165, Mean Validation Loss: 18.162967756191534\n",
            "Epoch 74, Mean Train Loss: 3.877298860007661, Mean Validation Loss: 18.473959796256715\n",
            "Epoch 75, Mean Train Loss: 3.7973275922927, Mean Validation Loss: 19.033388190469037\n",
            "Epoch 76, Mean Train Loss: 3.747601429472871, Mean Validation Loss: 19.8493568296424\n",
            "Epoch 77, Mean Train Loss: 3.7252019520309987, Mean Validation Loss: 20.21095970201365\n",
            "Epoch 78, Mean Train Loss: 3.7112784559435217, Mean Validation Loss: 20.587595070883935\n",
            "Epoch 79, Mean Train Loss: 3.7160825998593445, Mean Validation Loss: 21.150237482143957\n",
            "Epoch 80, Mean Train Loss: 3.7585546608220683, Mean Validation Loss: 20.494839985669987\n",
            "Epoch 81, Mean Train Loss: 3.864793495195025, Mean Validation Loss: 19.368771273646097\n",
            "Epoch 82, Mean Train Loss: 3.9019219609294673, Mean Validation Loss: 19.036419835349648\n",
            "Epoch 83, Mean Train Loss: 3.9110056726422084, Mean Validation Loss: 19.492439622445925\n",
            "Epoch 84, Mean Train Loss: 3.9247915184695135, Mean Validation Loss: 20.46859631916294\n",
            "Epoch 85, Mean Train Loss: 4.00230508683139, Mean Validation Loss: 23.392286807219048\n",
            "Epoch 86, Mean Train Loss: 4.043695642231494, Mean Validation Loss: 23.716468368166808\n",
            "Epoch 87, Mean Train Loss: 4.126026849089875, Mean Validation Loss: 23.727443298907122\n",
            "Epoch 88, Mean Train Loss: 4.266930152500497, Mean Validation Loss: 24.781163852976988\n",
            "Epoch 89, Mean Train Loss: 4.3619654697972186, Mean Validation Loss: 22.67116876298152\n",
            "Epoch 90, Mean Train Loss: 4.192793059590915, Mean Validation Loss: 23.359514202905995\n",
            "Epoch 91, Mean Train Loss: 4.0176952608880425, Mean Validation Loss: 22.841014518975573\n",
            "Epoch 92, Mean Train Loss: 3.9296532864883758, Mean Validation Loss: 21.44210232652306\n",
            "Epoch 93, Mean Train Loss: 3.89816767954279, Mean Validation Loss: 20.276783961009894\n",
            "Epoch 94, Mean Train Loss: 3.8590046613533358, Mean Validation Loss: 21.331149255815404\n",
            "Epoch 95, Mean Train Loss: 3.8193441076960974, Mean Validation Loss: 21.177198871160762\n",
            "Epoch 96, Mean Train Loss: 3.7435923284600907, Mean Validation Loss: 17.55036225832687\n",
            "Epoch 97, Mean Train Loss: 3.701767763541589, Mean Validation Loss: 18.74727602336201\n",
            "Epoch 98, Mean Train Loss: 3.6685755753097085, Mean Validation Loss: 18.3851653457431\n",
            "Epoch 99, Mean Train Loss: 3.6603409228831514, Mean Validation Loss: 16.83132638956751\n"
          ]
        }
      ],
      "source": [
        "model = AR_Set_Model(emb_dim=64)\n",
        "trainer = Trainer(model, train_dataset, validation_dataset, batch_size=8, loss_fn=torch.nn.MSELoss(), epochs=100, model_name=\"01-AR-Set-Model.pt\")\n",
        "trainer.train_loop()"
      ]
    },
    {
      "cell_type": "markdown",
      "metadata": {
        "id": "T1Lvn_zD5yri"
      },
      "source": [
        "### Q1: Implementing rollout code\n",
        "\n",
        "We have a working model now to predict $\\hat{X}^{t+1}$ given $X^t$. However, we of course want to be able to generate trajectories longer than one step (ie for i steps: $\\hat{X}^{t+1:t+i}$), given $X^t$.\n",
        "\n",
        "We sometimes call this a `rollout` - essentially a multi-step prediction.\n",
        "\n",
        "Q1: Complete the method below, which generates a rollout of `timesteps` steps, for a given model `model`, and dataset `dataset` *.\n",
        "\n",
        "HINT: What should happen if the position $x_i, y_i$ of boid $i$ are predicted to move $dx_i, dy_i$, such that $x_i + dx_i > \\text{width}$ or $y_i + dy_i > \\text{height}$?\n",
        "\n",
        "*: If you check the cell below the next cell, we already made a dataset for you that only contains initial positions :)"
      ]
    },
    {
      "cell_type": "code",
      "execution_count": 17,
      "metadata": {
        "id": "OVir4PDG5yri"
      },
      "outputs": [],
      "source": [
        "def compute_ar_set_model_rollouts(model, dataset, timesteps=1000, device='cuda', mode=\"residual\", width = 1000, height = 1000):\n",
        "    \"\"\"\n",
        "    Predict the rollouts of the model on the dataset starting from the idx\n",
        "\n",
        "    Args:\n",
        "        model: PyTorch model\n",
        "        dataset: PyTorch dataset (should contain initial states)\n",
        "        timesteps: Number of timesteps to predict\n",
        "        device: Device to run the model on\n",
        "        mode: \"residual\" or \"direct\"\n",
        "        - In the solution above, we used the \"residual\" mode, where the model predicts the change in position and change in velocity\n",
        "        - In the \"direct\" mode, the model predicts the position and velocity directly (if you do not intend to use this mode, you can ignore this argument)\n",
        "        width: Width of the PBC box\n",
        "        height: Height of the PBC box\n",
        "    Returns:\n",
        "        rollouts: Rollouts of the model on the dataset\n",
        "        - Should be a torch tensor of shape (Batch, Timesteps, Boids, Node_dim)\n",
        "    \"\"\"\n",
        "    rollouts = torch.empty((len(dataset), timesteps, dataset[0].x.shape[0], dataset[0].x.shape[1]), device=device)\n",
        "    print(rollouts.shape)\n",
        "\n",
        "    # ~ ^ ~ ^ ~ ^ ~ ^ ~ ^ ~ ^\n",
        "    #     Your code here\n",
        "    # ~ ^ ~ ^ ~ ^ ~ ^ ~ ^ ~ ^\n",
        "    for i in range(len(dataset)):\n",
        "\n",
        "        data = dataset[i].to(device)\n",
        "        current_state = data.x.unsqueeze(0)\n",
        "\n",
        "\n",
        "        rollouts[i, 0, :, :] = current_state.squeeze(0)\n",
        "\n",
        "        for t in range(1, timesteps):\n",
        "            # Predict the next state\n",
        "            with torch.no_grad():\n",
        "                predicted_delta = model(Data(x=current_state.squeeze(0), edge_index=data.edge_index.to(device))).unsqueeze(0) # Add batch dimension\n",
        "\n",
        "\n",
        "            if mode == \"residual\":\n",
        "                new_velocity = predicted_delta[:, :, :2]\n",
        "                delta_position = new_velocity\n",
        "                new_position = current_state[:, :, :2] + delta_position\n",
        "                new_velocity_from_delta = current_state[:, :, 2:] + predicted_delta[:, :, 2:]\n",
        "                current_state = torch.cat([new_position, new_velocity_from_delta], dim=-1)\n",
        "\n",
        "\n",
        "            elif mode == \"direct\":\n",
        "\n",
        "                current_state = predicted_delta\n",
        "            current_state[:, :, 0] = torch.remainder(current_state[:, :, 0], width)\n",
        "            current_state[:, :, 1] = torch.remainder(current_state[:, :, 1], height)\n",
        "            rollouts[i, t, :, :] = current_state.squeeze(0)\n",
        "\n",
        "\n",
        "    return rollouts"
      ]
    },
    {
      "cell_type": "code",
      "execution_count": 18,
      "metadata": {
        "colab": {
          "base_uri": "https://localhost:8080/"
        },
        "id": "gD8MhqHq5yri",
        "outputId": "5d54b110-255c-407e-c8a5-0bb43e7e619e"
      },
      "outputs": [
        {
          "output_type": "stream",
          "name": "stdout",
          "text": [
            "torch.Size([9, 1000, 25, 4])\n"
          ]
        },
        {
          "output_type": "stream",
          "name": "stderr",
          "text": [
            "Processing...\n",
            "Done!\n"
          ]
        }
      ],
      "source": [
        "def keep_01(data):\n",
        "    return data[0:2, :, :]\n",
        "\n",
        "initial_states_validation_dataset = AR_Boids_Dataset(\n",
        "    raw_data_path=\"../../data/boids/raw/\",\n",
        "    processed_data_path=\"../../data/boids/processed/\",\n",
        "    root=\"../../data/boids/\",\n",
        "    solution_idx_range=(16, 25),\n",
        "    timesteps=2,\n",
        "    processed_file_name=\"AR1_VAL_init.pt\",\n",
        "    transform=keep_01\n",
        "    )\n",
        "\n",
        "ar_set_model = AR_Set_Model(emb_dim=64)\n",
        "ar_set_model.load_state_dict(torch.load(\"../../models/01-AR-Set-Model.pt\"))\n",
        "device = 'cuda' if torch.cuda.is_available() else 'cpu'\n",
        "ar_set_model.to(device)\n",
        "ar_set_model.eval()\n",
        "\n",
        "ar_set_model_rollout = compute_ar_set_model_rollouts(ar_set_model, initial_states_validation_dataset, timesteps=1000, device=device)"
      ]
    },
    {
      "cell_type": "markdown",
      "metadata": {
        "id": "wgkXA7eI5yri"
      },
      "source": [
        "We'll evaluate these rollouts later."
      ]
    },
    {
      "cell_type": "markdown",
      "metadata": {
        "id": "HyANoqy45yrj"
      },
      "source": [
        "### Quick recap on equivariances\n",
        "\n",
        "<img src=\"https://github.com/pocolpaolo10tue/atai-2025/blob/main/practicals/boids/figures/boids-translational-equivariance.png?raw=1\" alt=\"drawing\" width=\"250\" style=\"background-color: white; padding: 50px;\"/>\n",
        "<img src=\"https://github.com/pocolpaolo10tue/atai-2025/blob/main/practicals/boids/figures/boids-rotational-equivariance.png?raw=1\" alt=\"drawing\" width=\"250\" style=\"background-color: white; padding: 50px;\"/>\n",
        "\n",
        "The figures above show the equivariances of the Boids system. The system is equivariant to all E(n) transformations; translation,\n",
        "rotation and reflection.*\n",
        "\n",
        "Formally, we say a function $f: X \\rarr Y$ is _equivariant_ to a group action or transformation $T: X \\rarr X$ if there is an equivalent transformation $S: Y \\rarr Y$ on the output space of the function such that\n",
        "\n",
        "$f(T(x)) = S(f(x))$ for each $x \\in X$\n",
        "\n",
        "We won't go into the formal definitions of each equivariance, but if you're interested you can check out the [E(n) Equivariant Graph Neural Networks](https://arxiv.org/pdf/2102.09844) paper [3], the equivariant model is based on.\n",
        "\n",
        "*: Excluding time translation equivariance, which states that there is no dependence on the time of the system, only the state.\n",
        "\n",
        "*: Also excluding permutational equivariance; the order of the nodes does not matter.\n",
        "\n",
        "## Towards Equivariant AR-GNNs\n",
        "The above model is **not** equivariant to translations in space! This is because we use absolute coordinates as _node features_, which creates a dependence on the absolute coordinate system. Instead, if we do not use the absolute positions as node features - and include the PBC distance as _edge features_ - the predictions will be space translation equivariant.\n",
        "\n",
        "Let's implement this!"
      ]
    },
    {
      "cell_type": "markdown",
      "metadata": {
        "id": "wRIFtFl15yrj"
      },
      "source": [
        "Before, we were not using the fact that boids only affect eachother within a certain radius, since we used a fully connected graph without edge weights.\n",
        "\n",
        "Before blindly jumping into the new dataset code, let's investigate this behavior."
      ]
    },
    {
      "cell_type": "code",
      "execution_count": 19,
      "metadata": {
        "colab": {
          "base_uri": "https://localhost:8080/",
          "height": 275
        },
        "id": "TzXR9DDg5yrj",
        "outputId": "56e69902-c655-41d8-8d5e-02a9292decb2"
      },
      "outputs": [
        {
          "output_type": "display_data",
          "data": {
            "text/plain": [
              "<Figure size 2000x400 with 5 Axes>"
            ],
            "image/png": "[encoded data removed]"
          },
          "metadata": {}
        }
      ],
      "source": [
        "# Plot timesteps 0, 250, 500, 750, 999 for the first trajectory\n",
        "trajectory = trajectories[0]\n",
        "fig, axs = plt.subplots(1, 5, figsize=(20, 4))\n",
        "fig.suptitle(\"Boids with radius of effect\")\n",
        "radius = 40\n",
        "\n",
        "for i, t in enumerate([0, 250, 500, 750, 999]):\n",
        "    axs[i].set_title(f\"Timestep {t}\")\n",
        "    # Plot dots for the boids\n",
        "    axs[i].scatter(trajectory[t, :, 0], trajectory[t, :, 1])\n",
        "    # Draw a red circle around each boid to indicate the radius\n",
        "    for j in range(trajectory.shape[1]):\n",
        "        circle = plt.Circle((trajectory[t, j, 0], trajectory[t, j, 1]), radius, color='r', fill=False)\n",
        "        axs[i].add_artist(circle)\n",
        "    # plot the boid velocities as arrows\n",
        "    for j in range(trajectory.shape[1]):\n",
        "        # NOTE: The arrows are made larger for effect\n",
        "        axs[i].arrow(trajectory[t, j, 0], trajectory[t, j, 1], trajectory[t, j, 2]*5, trajectory[t, j, 3]*5)\n",
        "plt.show()"
      ]
    },
    {
      "cell_type": "markdown",
      "metadata": {
        "id": "wXTgrCOl5yrj"
      },
      "source": [
        "## Q2 E(n) Equivariant Graph Neural Networks"
      ]
    },
    {
      "cell_type": "markdown",
      "metadata": {
        "id": "Py4DCvD65yrj"
      },
      "source": [
        "In Satorras, Hoogeboom, Welling's paper [3] with the same name, they introduce a relatively simple model that is equivariant to E(n) transformations.\n",
        "You can check the official [implementation](https://github.com/vgsatorras/egnn).\n",
        "implement the E(n)-Equivariant Graph Neural Networks (EGNN) model from scratch."
      ]
    },
    {
      "cell_type": "code",
      "execution_count": 20,
      "metadata": {
        "id": "MgAwRMO25yrj"
      },
      "outputs": [],
      "source": [
        "# EGNN\n",
        "import torch\n",
        "import torch.nn as nn\n",
        "from torch_geometric.nn import MessagePassing\n",
        "from torch_geometric.data import Data\n",
        "class MLP(nn.Module):\n",
        "    def __init__(self, in_dim, hidden, out_dim, num_layers=2, act=nn.SiLU):\n",
        "        super().__init__()\n",
        "        layers = []\n",
        "        dims = [in_dim] + [hidden]*(num_layers-1) + [out_dim]\n",
        "        for i in range(len(dims)-1):\n",
        "            layers.append(nn.Linear(dims[i], dims[i+1]))\n",
        "            if i < len(dims)-2:\n",
        "                layers.append(act())\n",
        "        self.net = nn.Sequential(*layers)\n",
        "    def forward(self, x):\n",
        "        return self.net(x)\n",
        "class EGNNLayer(MessagePassing):\n",
        "    \"\"\"\n",
        "    EGNN layer:\n",
        "      m_ij = phi_e(h_i, h_j, ||x_i - x_j||^2)\n",
        "      h_i' = h_i + phi_h(h_i, sum_j m_ij)\n",
        "      x_i' = x_i + sum_j (x_i - x_j) * phi_x(m_ij) / (1 + ||x_i - x_j||)\n",
        "    Uses only relative coords/distances -> E(n)-equivariant.\n",
        "    \"\"\"\n",
        "    def __init__(self, h_dim, m_dim=64, coord_norm=True, aggr='add'):\n",
        "        super().__init__(aggr=aggr)\n",
        "        self.coord_norm = coord_norm\n",
        "        self.phi_e = MLP(in_dim=2*h_dim + 1, hidden=m_dim, out_dim=m_dim, num_layers=2)\n",
        "        self.phi_x = MLP(in_dim=m_dim, hidden=m_dim, out_dim=1, num_layers=2)\n",
        "        self.phi_h = MLP(in_dim=h_dim + m_dim, hidden=m_dim, out_dim=h_dim, num_layers=2)\n",
        "\n",
        "    def forward(self, h, x, edge_index):\n",
        "        # propagate -> calls message -> aggregate -> update\n",
        "        dx, h_out = self.propagate(edge_index, x=x, h=h, size=None)\n",
        "        x = x + dx\n",
        "        h = h_out\n",
        "        return h, x\n",
        "\n",
        "    def message(self, x_i, x_j, h_i, h_j):\n",
        "        diff = x_i - x_j\n",
        "        r2 = (diff * diff).sum(dim=-1, keepdim=True)\n",
        "        m_ij = self.phi_e(torch.cat([h_i, h_j, r2], dim=-1))\n",
        "        delta_scalar = self.phi_x(m_ij)\n",
        "        if self.coord_norm:\n",
        "            r = torch.sqrt(r2 + 1e-8)\n",
        "            delta = diff * (delta_scalar / (1.0 + r))\n",
        "        else:\n",
        "            delta = diff * delta_scalar\n",
        "        return m_ij, delta\n",
        "\n",
        "    def aggregate(self, inputs, index, dim_size=None):\n",
        "        # inputs is a tuple (m_ij, delta_ij); sum over neighbors j->i\n",
        "        m, delta = inputs\n",
        "        if dim_size is None:\n",
        "            dim_size = index.max().item() + 1\n",
        "        m_agg = torch.zeros((dim_size, m.size(-1)), device=m.device)\n",
        "        d_agg = torch.zeros((dim_size, delta.size(-1)), device=delta.device)\n",
        "        m_agg.index_add_(0, index, m)\n",
        "        d_agg.index_add_(0, index, delta)\n",
        "        return m_agg, d_agg\n",
        "\n",
        "    def update(self, aggr_out, h):\n",
        "        m_agg, d_agg = aggr_out\n",
        "        h_new = self.phi_h(torch.cat([h, m_agg], dim=-1))\n",
        "        h_new = h + h_new\n",
        "        return d_agg, h_new\n",
        "class EGNN_AR_Model(nn.Module):\n",
        "    \"\"\"\n",
        "    EGNN-based autoregressive head for Boids.\n",
        "    Treat positions as coordinates, velocities as node features.\n",
        "    Output: (N,4) to match your target y:\n",
        "      y[:, :2] = v^{t+1}\n",
        "      y[:, 2:] = a = v^{t+1} - v^t\n",
        "    \"\"\"\n",
        "    def __init__(self, coord_dim=2, feat_dim=2, h_dim=64, m_dim=64, n_layers=3, out_dim=4, edge_radius=None):\n",
        "        super().__init__()\n",
        "        self.coord_dim = coord_dim\n",
        "        self.edge_radius = edge_radius\n",
        "        self.embed = nn.Linear(feat_dim, h_dim)\n",
        "        self.layers = nn.ModuleList([EGNNLayer(h_dim=h_dim, m_dim=m_dim) for _ in range(n_layers)])\n",
        "        self.head = MLP(in_dim=h_dim, hidden=h_dim, out_dim=out_dim, num_layers=2)\n",
        "\n",
        "    def forward(self, data):\n",
        "        pos = data.x[:, :self.coord_dim]\n",
        "        vel = data.x[:, self.coord_dim:]\n",
        "        h = torch.relu(self.embed(vel))\n",
        "\n",
        "        edge_index = data.edge_index\n",
        "\n",
        "        if self.edge_radius is not None and edge_index is not None and edge_index.numel() > 0:\n",
        "            with torch.no_grad():\n",
        "                diff = pos[edge_index[0]] - pos[edge_index[1]]\n",
        "                r2 = (diff * diff).sum(dim=-1)\n",
        "                keep = r2 <= (self.edge_radius ** 2)\n",
        "            edge_index = edge_index[:, keep]\n",
        "\n",
        "\n",
        "        for layer in self.layers:\n",
        "            h, pos = layer(h=h, x=pos, edge_index=edge_index)\n",
        "\n",
        "        out = self.head(h)   # (N,4)\n",
        "        return out\n"
      ]
    },
    {
      "cell_type": "code",
      "source": [
        "model = EGNN_AR_Model(h_dim=64, m_dim=64, n_layers=4, out_dim=4, edge_radius=40)  # edge_radius optional\n",
        "trainer = Trainer(model, train_dataset, validation_dataset,\n",
        "                  batch_size=8, lr=1e-4, epochs=40,\n",
        "                  loss_fn=torch.nn.MSELoss(), model_name=\"02-EGNN-Boids.pt\")\n",
        "trainer.train_loop()\n"
      ],
      "metadata": {
        "id": "rhBiNIPnpwDQ",
        "outputId": "a1ba658b-d884-4488-ffc1-19e9646beeaf",
        "colab": {
          "base_uri": "https://localhost:8080/"
        }
      },
      "execution_count": 21,
      "outputs": [
        {
          "output_type": "stream",
          "name": "stdout",
          "text": [
            "Using device: cuda\n",
            "Epoch 0, Mean Train Loss: 0.2713974013352032, Mean Validation Loss: 0.014989421831880127\n",
            "Epoch 1, Mean Train Loss: 0.008418732393002564, Mean Validation Loss: 0.009124720147342313\n",
            "Epoch 2, Mean Train Loss: 0.007744004072228524, Mean Validation Loss: 0.00678568201551947\n",
            "Epoch 3, Mean Train Loss: 0.007210735944005871, Mean Validation Loss: 0.006179951780491433\n",
            "Epoch 4, Mean Train Loss: 0.0069576763693693635, Mean Validation Loss: 0.006267392468507686\n",
            "Epoch 5, Mean Train Loss: 0.006855132055407604, Mean Validation Loss: 0.006991673411344504\n",
            "Epoch 6, Mean Train Loss: 0.0066484421682413836, Mean Validation Loss: 0.006350739359173954\n",
            "Epoch 7, Mean Train Loss: 0.0065203645616428935, Mean Validation Loss: 0.006091500454939295\n",
            "Epoch 8, Mean Train Loss: 0.006323718851474873, Mean Validation Loss: 0.006025316187220801\n",
            "Epoch 9, Mean Train Loss: 0.00621021220854236, Mean Validation Loss: 0.006030723412916353\n",
            "Epoch 10, Mean Train Loss: 0.006130093059959253, Mean Validation Loss: 0.005840989173742845\n",
            "Epoch 11, Mean Train Loss: 0.00605366160922564, Mean Validation Loss: 0.005608510443292233\n",
            "Epoch 12, Mean Train Loss: 0.005981492374073663, Mean Validation Loss: 0.005643340335302187\n",
            "Epoch 13, Mean Train Loss: 0.005907782513384239, Mean Validation Loss: 0.005529634367319227\n",
            "Epoch 14, Mean Train Loss: 0.005853171652830649, Mean Validation Loss: 0.005461682538298321\n",
            "Epoch 15, Mean Train Loss: 0.005792987865626561, Mean Validation Loss: 0.0053128680359001606\n",
            "Epoch 16, Mean Train Loss: 0.0057445451208746195, Mean Validation Loss: 0.005157255122837389\n",
            "Epoch 17, Mean Train Loss: 0.005698706659635407, Mean Validation Loss: 0.005039286561507669\n",
            "Epoch 18, Mean Train Loss: 0.005651464267785574, Mean Validation Loss: 0.005006888429037165\n",
            "Epoch 19, Mean Train Loss: 0.005609519377096005, Mean Validation Loss: 0.005566490562340346\n",
            "Epoch 20, Mean Train Loss: 0.005569997531863402, Mean Validation Loss: 0.005701944247329357\n",
            "Epoch 21, Mean Train Loss: 0.005521148367312015, Mean Validation Loss: 0.005597958307290734\n",
            "Epoch 22, Mean Train Loss: 0.005481503811947123, Mean Validation Loss: 0.005906725790650598\n",
            "Epoch 23, Mean Train Loss: 0.005439413378537072, Mean Validation Loss: 0.006087486118976797\n",
            "Epoch 24, Mean Train Loss: 0.005403250716011626, Mean Validation Loss: 0.005874294785675713\n",
            "Epoch 25, Mean Train Loss: 0.00536906460052954, Mean Validation Loss: 0.005346225847354124\n",
            "Epoch 26, Mean Train Loss: 0.005336166695842821, Mean Validation Loss: 0.005809475947539459\n",
            "Epoch 27, Mean Train Loss: 0.005308712233897616, Mean Validation Loss: 0.0053034727048014395\n",
            "Epoch 28, Mean Train Loss: 0.005270585584103936, Mean Validation Loss: 0.006060071802989995\n",
            "Epoch 29, Mean Train Loss: 0.005241828869398369, Mean Validation Loss: 0.006475542839033942\n",
            "Epoch 30, Mean Train Loss: 0.005207818637148878, Mean Validation Loss: 0.006203540597467179\n",
            "Epoch 31, Mean Train Loss: 0.0051848655557327665, Mean Validation Loss: 0.0063853248479968485\n",
            "Epoch 32, Mean Train Loss: 0.005151864911414869, Mean Validation Loss: 0.005978621341655477\n",
            "Epoch 33, Mean Train Loss: 0.005128580798142305, Mean Validation Loss: 0.005565009106981849\n",
            "Epoch 34, Mean Train Loss: 0.005095076325205902, Mean Validation Loss: 0.005850984798686269\n",
            "Epoch 35, Mean Train Loss: 0.005057024436416675, Mean Validation Loss: 0.006269869912508626\n",
            "Epoch 36, Mean Train Loss: 0.0050300715052411715, Mean Validation Loss: 0.005692405000276978\n",
            "Epoch 37, Mean Train Loss: 0.005029042060673513, Mean Validation Loss: 0.0062301825991516995\n",
            "Epoch 38, Mean Train Loss: 0.004999496504343844, Mean Validation Loss: 0.006579751059357392\n",
            "Epoch 39, Mean Train Loss: 0.005001908203624726, Mean Validation Loss: 0.006113390847526405\n",
            "Epoch 40, Mean Train Loss: 0.004965375274428035, Mean Validation Loss: 0.005347822014229349\n",
            "Epoch 41, Mean Train Loss: 0.004948997777304597, Mean Validation Loss: 0.0063614956709340245\n",
            "Epoch 42, Mean Train Loss: 0.0048909718886703864, Mean Validation Loss: 0.0056239922971471745\n",
            "Epoch 43, Mean Train Loss: 0.004879930472035137, Mean Validation Loss: 0.0060406112263610675\n",
            "Epoch 44, Mean Train Loss: 0.004842028974572478, Mean Validation Loss: 0.005972514653365681\n",
            "Epoch 45, Mean Train Loss: 0.004842953398964347, Mean Validation Loss: 0.006905979280061904\n",
            "Epoch 46, Mean Train Loss: 0.004822185746146894, Mean Validation Loss: 0.007527175361591927\n",
            "Epoch 47, Mean Train Loss: 0.004772613813441677, Mean Validation Loss: 0.006427120087729047\n",
            "Epoch 48, Mean Train Loss: 0.0048532046466143505, Mean Validation Loss: 0.007543992209925175\n",
            "Epoch 49, Mean Train Loss: 0.0048360608732820705, Mean Validation Loss: 0.007130381864849486\n"
          ]
        }
      ]
    },
    {
      "cell_type": "code",
      "source": [
        "\n",
        "device = 'cuda' if torch.cuda.is_available() else 'cpu'\n",
        "\n",
        "\n",
        "ar_no_pf = AR_Set_Model(emb_dim=64).to(device)\n",
        "ar_no_pf.load_state_dict(torch.load(\"../../models/01-AR-Set-Model.pt\", map_location=device))\n",
        "ar_no_pf.eval()\n",
        "\n",
        "\n",
        "egnn_no_pf = EGNN_AR_Model(h_dim=64, m_dim=64, n_layers=4, out_dim=4, edge_radius=40).to(device)\n",
        "egnn_no_pf.load_state_dict(torch.load(\"../../models/02-EGNN-Boids.pt\", map_location=device))\n",
        "egnn_no_pf.eval()\n"
      ],
      "metadata": {
        "id": "Ov0Zb4AW-yWK",
        "outputId": "0aee53a5-d57a-438b-aabd-4223f8bee973",
        "colab": {
          "base_uri": "https://localhost:8080/"
        }
      },
      "execution_count": 27,
      "outputs": [
        {
          "output_type": "execute_result",
          "data": {
            "text/plain": [
              "EGNN_AR_Model(\n",
              "  (embed): Linear(in_features=2, out_features=64, bias=True)\n",
              "  (layers): ModuleList(\n",
              "    (0-3): 4 x EGNNLayer()\n",
              "  )\n",
              "  (head): MLP(\n",
              "    (net): Sequential(\n",
              "      (0): Linear(in_features=64, out_features=64, bias=True)\n",
              "      (1): SiLU()\n",
              "      (2): Linear(in_features=64, out_features=4, bias=True)\n",
              "    )\n",
              "  )\n",
              ")"
            ]
          },
          "metadata": {},
          "execution_count": 27
        }
      ]
    },
    {
      "cell_type": "code",
      "source": [
        "\n",
        "import os, numpy as np, torch, matplotlib.pyplot as plt\n",
        "\n",
        "\n",
        "raw_dir = \"../../data/boids/raw/\"\n",
        "def _idx_from_name(fn):\n",
        "    try:\n",
        "        return int(fn.split(\"_\")[-1].split(\".\")[0])\n",
        "    except Exception:\n",
        "        return None\n",
        "\n",
        "all_files = [f for f in os.listdir(raw_dir) if f.endswith(\".npy\")]\n",
        "val_files = [f for f in all_files if (_idx_from_name(f) is not None and 16 <= _idx_from_name(f) < 25)]\n",
        "val_files.sort(key=lambda f: _idx_from_name(f))\n",
        "gt_list = [np.load(os.path.join(raw_dir, f)) for f in val_files]\n",
        "validation_trajectories = torch.tensor(np.stack(gt_list, axis=0), dtype=torch.float)\n",
        "print(\"Loaded GT shape:\", validation_trajectories.shape)  # expect [9, 1000, 25, 4]\n",
        "\n",
        "\n",
        "def compute_velocity_distributions(vel, timesteps=None, eps=1e-6):\n",
        "    \"\"\"\n",
        "    vel: [B, T, N, 2] -> returns list of Normal(mean_t, std_t) for t=0..T-1\n",
        "    \"\"\"\n",
        "    if timesteps is None: timesteps = vel.shape[1]\n",
        "    dists = []\n",
        "    for t in range(timesteps):\n",
        "        v_t = vel[:, t].reshape(-1)\n",
        "        mean = v_t.mean()\n",
        "        std = v_t.std().clamp_min(eps)\n",
        "        dists.append(torch.distributions.Normal(mean, std))\n",
        "    return dists\n",
        "\n",
        "def kl_curve(q_list, p_list):\n",
        "    vals = [torch.distributions.kl_divergence(q, p) for q, p in zip(q_list, p_list)]\n",
        "    return torch.stack(vals)\n",
        "\n",
        "def plot_kl(kl_vals, title=\"KL divergence per timestep\"):\n",
        "    xs = torch.arange(len(kl_vals)).cpu().numpy()\n",
        "    ys = kl_vals.detach().cpu().numpy()\n",
        "    plt.figure(figsize=(8,3))\n",
        "    plt.plot(xs, ys)\n",
        "    plt.xlabel(\"Timestep\")\n",
        "    plt.ylabel(\"D_KL (Q || P)\")\n",
        "    plt.title(title)\n",
        "    plt.tight_layout()\n",
        "    plt.show()\n",
        "\n",
        "\n",
        "dists_GT   = compute_velocity_distributions(validation_trajectories[:,:,:,2:])\n",
        "assert 'roll_ar' in globals() and 'roll_egnn' in globals(), \"Run the rollout cells first.\"\n",
        "\n",
        "dists_AR   = compute_velocity_distributions(roll_ar[:,:,:,2:])\n",
        "dists_EGNN = compute_velocity_distributions(roll_egnn[:,:,:,2:])\n",
        "\n",
        "\n",
        "kl_AR   = kl_curve(dists_AR,   dists_GT)\n",
        "kl_EGNN = kl_curve(dists_EGNN, dists_GT)\n",
        "\n",
        "plot_kl(kl_AR,   title=\"KL: AR_Set (no PF) vs GT\")\n",
        "plot_kl(kl_EGNN, title=\"KL: EGNN (no PF) vs GT\")\n",
        "\n",
        "print(\"Mean KL (AR no PF):  \", float(kl_AR.mean()))\n",
        "print(\"Mean KL (EGNN no PF):\", float(kl_EGNN.mean()))\n",
        "\n"
      ],
      "metadata": {
        "id": "uoUWWsqe-0jP",
        "outputId": "e10a0c2f-f7b0-450a-8bee-2a2f19a0847c",
        "colab": {
          "base_uri": "https://localhost:8080/",
          "height": 649
        }
      },
      "execution_count": 31,
      "outputs": [
        {
          "output_type": "stream",
          "name": "stdout",
          "text": [
            "Loaded GT shape: torch.Size([9, 1000, 25, 4])\n"
          ]
        },
        {
          "output_type": "display_data",
          "data": {
            "text/plain": [
              "<Figure size 800x300 with 1 Axes>"
            ],
            "image/png": "[encoded data removed]"
          },
          "metadata": {}
        },
        {
          "output_type": "display_data",
          "data": {
            "text/plain": [
              "<Figure size 800x300 with 1 Axes>"
            ],
            "image/png": "[encoded data removed]"
          },
          "metadata": {}
        },
        {
          "output_type": "stream",
          "name": "stdout",
          "text": [
            "Mean KL (AR no PF):   nan\n",
            "Mean KL (EGNN no PF): 1.8044956922531128\n"
          ]
        }
      ]
    },
    {
      "cell_type": "markdown",
      "metadata": {
        "id": "QIsL2B285yrj"
      },
      "source": [
        "## Q3 Push-forward training\n",
        "\n",
        "Implement the push-forward training mechanism for the AR-Set-Model and the EGNN developed in Q2"
      ]
    },
    {
      "cell_type": "markdown",
      "metadata": {
        "id": "NHUK-upa5yrj"
      },
      "source": [
        "### Push-forward for AR_Set_model"
      ]
    },
    {
      "cell_type": "code",
      "execution_count": 22,
      "metadata": {
        "colab": {
          "base_uri": "https://localhost:8080/",
          "height": 106
        },
        "id": "99Yf1aY75yrj",
        "outputId": "e52ccdd5-65bc-4c51-e5b6-922112604ab0"
      },
      "outputs": [
        {
          "output_type": "error",
          "ename": "IndentationError",
          "evalue": "unexpected indent (ipython-input-1820560880.py, line 3)",
          "traceback": [
            "\u001b[0;36m  File \u001b[0;32m\"/tmp/ipython-input-1820560880.py\"\u001b[0;36m, line \u001b[0;32m3\u001b[0m\n\u001b[0;31m    \"\"\"\u001b[0m\n\u001b[0m    ^\u001b[0m\n\u001b[0;31mIndentationError\u001b[0m\u001b[0;31m:\u001b[0m unexpected indent\n"
          ]
        }
      ],
      "source": [
        "###\n",
        " # TODO: TODO: TODO: TODO: TODO:\n",
        "        \"\"\"\n",
        "        Your code goes here\n",
        "\n",
        "        \"\"\"\n",
        "###"
      ]
    },
    {
      "cell_type": "code",
      "source": [
        "#  Push-forward for AR\n",
        "import os, math, torch\n",
        "import torch.nn as nn\n",
        "from torch_geometric.data import Data, DataLoader\n",
        "import torch_geometric\n",
        "\n",
        "\n",
        "class AR_Set_Model_Norm(torch.nn.Module):\n",
        "    def __init__(self, node_dim=4, emb_dim=256, out_dim=4, pos_scale=1000.0, p_drop=0.2):\n",
        "        super().__init__()\n",
        "        self.pos_scale = pos_scale\n",
        "        self.lin_in = torch.nn.Linear(node_dim, emb_dim)\n",
        "        self.bn1 = torch.nn.BatchNorm1d(emb_dim)\n",
        "        self.conv1 = torch_geometric.nn.GCNConv(emb_dim, emb_dim)\n",
        "        self.bn2 = torch.nn.BatchNorm1d(emb_dim)\n",
        "        self.conv2 = torch_geometric.nn.GCNConv(emb_dim, emb_dim)\n",
        "        self.bn3 = torch.nn.BatchNorm1d(emb_dim)\n",
        "        self.lin_out = torch.nn.Linear(emb_dim, out_dim)\n",
        "        self.drop = torch.nn.Dropout(p_drop)\n",
        "\n",
        "    def forward(self, data):\n",
        "        x, edge_index = data.x, data.edge_index\n",
        "        x = x.clone()\n",
        "        x[:, :2] = x[:, :2] / self.pos_scale  # normalize positions only\n",
        "\n",
        "        x = self.lin_in(x)\n",
        "        x = torch.relu(self.bn1(x))\n",
        "        x = self.drop(x)\n",
        "\n",
        "        x = self.conv1(x, edge_index)\n",
        "        x = torch.relu(self.bn2(x))\n",
        "        x = self.drop(x)\n",
        "\n",
        "        x = self.conv2(x, edge_index)\n",
        "        x = torch.relu(self.bn3(x))\n",
        "        x = self.drop(x)\n",
        "\n",
        "        x = self.lin_out(x)\n",
        "        return x\n",
        "\n",
        "\n",
        "class WeightedMSE(nn.Module):\n",
        "    def __init__(self, w=(1.0, 1.0, 0.5, 0.5)):\n",
        "        super().__init__()\n",
        "        self.register_buffer(\"w\", torch.tensor(w, dtype=torch.float32))\n",
        "    def forward(self, pred, target):\n",
        "        return ((self.w * (pred - target) ** 2).mean())\n",
        "\n",
        "\n",
        "def _make_e2_rotation_reflection(apply_reflection=True, device='cpu'):\n",
        "    theta = torch.rand((), device=device) * 2 * math.pi\n",
        "    c, s = torch.cos(theta), torch.sin(theta)\n",
        "    R = torch.stack([torch.stack([ c, -s]), torch.stack([ s,  c])])  # (2,2)\n",
        "    if apply_reflection and (torch.rand((), device=device) < 0.5):\n",
        "        F = torch.tensor([[1., 0.],[0., -1.]], device=device)\n",
        "        R = F @ R\n",
        "    return R  # (2,2)\n",
        "\n",
        "def _apply_e2_to_state(x, R, t=None, width=1000, height=1000):\n",
        "    \"\"\"\n",
        "    x: (N,4) = [pos_x, pos_y, vel_x, vel_y]\n",
        "    R: (2,2) rotation/reflection\n",
        "    t: (2,) translation or None (when translations are disabled)\n",
        "    \"\"\"\n",
        "    pos = x[:, :2] @ R.T\n",
        "    if t is not None:\n",
        "        pos = pos + t\n",
        "    vel = x[:, 2:] @ R.T\n",
        "    pos[:, 0] = pos[:, 0] % width\n",
        "    pos[:, 1] = pos[:, 1] % height\n",
        "    return torch.cat([pos, vel], dim=-1)\n",
        "\n",
        "def _apply_e2_to_output(out, R):\n",
        "    \"\"\"\n",
        "    out: (N,4) = [v_next_x, v_next_y, a_x, a_y]\n",
        "    Both velocity and acceleration transform as vectors: rotate/reflect only.\n",
        "    \"\"\"\n",
        "    v_next = out[:, :2] @ R.T\n",
        "    acc    = out[:, 2:] @ R.T\n",
        "    return torch.cat([v_next, acc], dim=-1)\n",
        "\n",
        "def transform_data_e2(data: Data, width=1000, height=1000,\n",
        "                      apply_reflection=True, use_translation=False):\n",
        "    \"\"\"\n",
        "    Returns data_T (Data) and R. For AR we set use_translation=False to avoid PF blow-ups.\n",
        "    Preserves batch attribute if present.\n",
        "    \"\"\"\n",
        "    device = data.x.device\n",
        "    R = _make_e2_rotation_reflection(apply_reflection=apply_reflection, device=device)\n",
        "    t = None\n",
        "    if use_translation:\n",
        "        t = torch.tensor([torch.rand((), device=device)*width,\n",
        "                          torch.rand((), device=device)*height], device=device)\n",
        "    x_T = _apply_e2_to_state(data.x, R, t, width=width, height=height)\n",
        "    data_T = Data(x=x_T, edge_index=data.edge_index, y=getattr(data, \"y\", None))\n",
        "    if hasattr(data, \"batch\"):\n",
        "        data_T.batch = data.batch  # keep graph boundaries for batched data\n",
        "    return data_T, R\n",
        "\n",
        "def pushforward_step(model, data, loss_fn, lambda_pf=1.0,\n",
        "                     width=1000, height=1000,\n",
        "                     apply_reflection=True, use_translation=False):\n",
        "    \"\"\"\n",
        "    loss = MSE(model(x), y) + λ * MSE( model(T·x),  S·model(x) )\n",
        "    For AR baseline, T excludes translations (use_translation=False).\n",
        "    \"\"\"\n",
        "    pred = model(data)\n",
        "    loss_sup = loss_fn(pred, data.y)\n",
        "\n",
        "    data_T, R = transform_data_e2(\n",
        "        data, width=width, height=height,\n",
        "        apply_reflection=apply_reflection, use_translation=use_translation\n",
        "    )\n",
        "    with torch.no_grad():\n",
        "        pred_ref = _apply_e2_to_output(pred, R)\n",
        "\n",
        "    pred_T = model(data_T)\n",
        "\n",
        "\n",
        "    if pred_T.shape != pred_ref.shape:\n",
        "        raise RuntimeError(f\"PF shape mismatch: pred_T {pred_T.shape} vs pred_ref {pred_ref.shape}\")\n",
        "\n",
        "    loss_pf = loss_fn(pred_T, pred_ref)\n",
        "    loss = loss_sup + lambda_pf * loss_pf\n",
        "    return loss, loss_sup.detach(), loss_pf.detach()\n",
        "\n",
        "\n",
        "class PFTrainer:\n",
        "    def __init__(self, model, train_dataset, validation_dataset,\n",
        "                 batch_size=8, lr=5e-5, epochs=50,\n",
        "                 loss_fn=torch.nn.MSELoss(),\n",
        "                 lambda_pf=0.05,\n",
        "                 width=1000, height=1000,\n",
        "                 apply_reflection=True,\n",
        "                 use_translation=False,\n",
        "                 model_name=\"03-AR-Set-Norm-PF.pt\"):\n",
        "        self.model = model\n",
        "        self.train_dataset = train_dataset\n",
        "        self.validation_dataset = validation_dataset\n",
        "        self.batch_size = batch_size\n",
        "        self.lr = lr\n",
        "        self.epochs = epochs\n",
        "        self.loss_fn = loss_fn\n",
        "        self.lambda_pf = lambda_pf\n",
        "        self.width = width\n",
        "        self.height = height\n",
        "        self.apply_reflection = apply_reflection\n",
        "        self.use_translation = use_translation\n",
        "        self.model_name = model_name\n",
        "\n",
        "        os.makedirs(\"../../models\", exist_ok=True)\n",
        "        self.device = torch.device('cuda' if torch.cuda.is_available() else 'cpu')\n",
        "        print(\"Using device:\", self.device)\n",
        "        self.model.to(self.device)\n",
        "        self.optimizer = torch.optim.Adam(self.model.parameters(), lr=self.lr)  # add weight_decay=1e-5 if needed\n",
        "\n",
        "        self.train_loader = DataLoader(self.train_dataset, batch_size=self.batch_size, shuffle=True)\n",
        "        self.val_loader   = DataLoader(self.validation_dataset,  batch_size=self.batch_size, shuffle=False)\n",
        "\n",
        "    def _run_epoch(self, loader, train=True):\n",
        "        if train: self.model.train()\n",
        "        else:     self.model.eval()\n",
        "\n",
        "        total, n = 0.0, 0\n",
        "        sup_tot, pf_tot = 0.0, 0.0\n",
        "        with torch.set_grad_enabled(train):\n",
        "            for data in loader:\n",
        "                data = data.to(self.device)\n",
        "                if train: self.optimizer.zero_grad()\n",
        "\n",
        "                loss, loss_sup, loss_pf = pushforward_step(\n",
        "                    self.model, data, self.loss_fn, lambda_pf=self.lambda_pf,\n",
        "                    width=self.width, height=self.height,\n",
        "                    apply_reflection=self.apply_reflection,\n",
        "                    use_translation=self.use_translation\n",
        "                )\n",
        "\n",
        "                if train:\n",
        "                    loss.backward()\n",
        "                    torch.nn.utils.clip_grad_norm_(self.model.parameters(), 1.0)\n",
        "                    self.optimizer.step()\n",
        "\n",
        "                total += float(loss.item())\n",
        "                sup_tot += float(loss_sup.item())\n",
        "                pf_tot  += float(loss_pf.item())\n",
        "                n += 1\n",
        "\n",
        "        return total/max(1,n), sup_tot/max(1,n), pf_tot/max(1,n)\n",
        "\n",
        "    def train_loop(self):\n",
        "        best_val = float('inf')\n",
        "        for epoch in range(1, self.epochs+1):\n",
        "            tr_all, tr_sup, tr_pf = self._run_epoch(self.train_loader, train=True)\n",
        "            va_all, va_sup, va_pf = self._run_epoch(self.val_loader, train=False)\n",
        "\n",
        "            if va_all < best_val:\n",
        "                best_val = va_all\n",
        "                torch.save(self.model.state_dict(), f\"../../models/{self.model_name}\")\n",
        "\n",
        "            print(f\"Epoch {epoch:03d} | \"\n",
        "                  f\"train total {tr_all:.5f} (sup {tr_sup:.5f} + pf {tr_pf:.5f}) | \"\n",
        "                  f\"val total {va_all:.5f} (sup {va_sup:.5f} + pf {va_pf:.5f})\")\n",
        "\n",
        "\n",
        "ar_pf = AR_Set_Model_Norm()\n",
        "PFTrainer(\n",
        "    model=ar_pf,\n",
        "    train_dataset=train_dataset,\n",
        "    validation_dataset=validation_dataset,\n",
        "    batch_size=16,\n",
        "    lr=3e-4,\n",
        "    epochs=30,\n",
        "    loss_fn=torch.nn.MSELoss(),\n",
        "    lambda_pf=0.05,\n",
        "    width=1000, height=1000,\n",
        "    apply_reflection=True,\n",
        "    use_translation=False,\n",
        "    model_name=\"03-AR-NormWide-PF.pt\"\n",
        ").train_loop()\n"
      ],
      "metadata": {
        "id": "35s_qSuU-036",
        "outputId": "f1bb8419-2cbd-4463-d58e-7a5d06e2caa5",
        "colab": {
          "base_uri": "https://localhost:8080/"
        }
      },
      "execution_count": 23,
      "outputs": [
        {
          "output_type": "stream",
          "name": "stdout",
          "text": [
            "Using device: cuda\n",
            "Epoch 001 | train total 3.34403 (sup 3.33395 + pf 0.20169) | val total 3.43059 (sup 3.42938 + pf 0.02422)\n",
            "Epoch 002 | train total 3.31316 (sup 3.30416 + pf 0.17987) | val total 3.44816 (sup 3.44524 + pf 0.05830)\n",
            "Epoch 003 | train total 3.30661 (sup 3.29806 + pf 0.17101) | val total 3.41761 (sup 3.41680 + pf 0.01612)\n",
            "Epoch 004 | train total 3.29544 (sup 3.28698 + pf 0.16909) | val total 3.43616 (sup 3.43433 + pf 0.03663)\n",
            "Epoch 005 | train total 3.29993 (sup 3.29172 + pf 0.16412) | val total 3.43365 (sup 3.43240 + pf 0.02505)\n",
            "Epoch 006 | train total 3.29912 (sup 3.29061 + pf 0.17027) | val total 3.43200 (sup 3.43038 + pf 0.03238)\n",
            "Epoch 007 | train total 3.29058 (sup 3.28214 + pf 0.16869) | val total 3.45308 (sup 3.45066 + pf 0.04845)\n",
            "Epoch 008 | train total 3.29238 (sup 3.28396 + pf 0.16836) | val total 3.41578 (sup 3.41500 + pf 0.01559)\n",
            "Epoch 009 | train total 3.28861 (sup 3.28016 + pf 0.16906) | val total 3.45682 (sup 3.45289 + pf 0.07868)\n",
            "Epoch 010 | train total 3.28481 (sup 3.27634 + pf 0.16932) | val total 3.44175 (sup 3.43874 + pf 0.06010)\n",
            "Epoch 011 | train total 3.28556 (sup 3.27737 + pf 0.16386) | val total 3.43939 (sup 3.43620 + pf 0.06371)\n",
            "Epoch 012 | train total 3.28871 (sup 3.28051 + pf 0.16405) | val total 3.43641 (sup 3.43468 + pf 0.03448)\n",
            "Epoch 013 | train total 3.28213 (sup 3.27334 + pf 0.17582) | val total 3.45060 (sup 3.44726 + pf 0.06676)\n",
            "Epoch 014 | train total 3.27869 (sup 3.27011 + pf 0.17160) | val total 3.47690 (sup 3.47065 + pf 0.12496)\n",
            "Epoch 015 | train total 3.27918 (sup 3.27066 + pf 0.17043) | val total 3.45538 (sup 3.45204 + pf 0.06694)\n",
            "Epoch 016 | train total 3.27656 (sup 3.26825 + pf 0.16621) | val total 3.45768 (sup 3.45482 + pf 0.05722)\n",
            "Epoch 017 | train total 3.27749 (sup 3.26878 + pf 0.17419) | val total 3.47025 (sup 3.46662 + pf 0.07254)\n",
            "Epoch 018 | train total 3.27579 (sup 3.26702 + pf 0.17541) | val total 3.45412 (sup 3.45098 + pf 0.06277)\n",
            "Epoch 019 | train total 3.27295 (sup 3.26424 + pf 0.17421) | val total 3.47275 (sup 3.46808 + pf 0.09348)\n",
            "Epoch 020 | train total 3.27293 (sup 3.26413 + pf 0.17587) | val total 3.43749 (sup 3.43557 + pf 0.03833)\n",
            "Epoch 021 | train total 3.27164 (sup 3.26258 + pf 0.18108) | val total 3.44638 (sup 3.44516 + pf 0.02440)\n",
            "Epoch 022 | train total 3.27088 (sup 3.26238 + pf 0.17001) | val total 3.42494 (sup 3.42336 + pf 0.03156)\n",
            "Epoch 023 | train total 3.26709 (sup 3.25809 + pf 0.18008) | val total 3.42451 (sup 3.42360 + pf 0.01811)\n",
            "Epoch 024 | train total 3.26774 (sup 3.25875 + pf 0.17983) | val total 3.45327 (sup 3.45130 + pf 0.03943)\n",
            "Epoch 025 | train total 3.26679 (sup 3.25786 + pf 0.17866) | val total 3.42764 (sup 3.42643 + pf 0.02419)\n",
            "Epoch 026 | train total 3.26411 (sup 3.25541 + pf 0.17399) | val total 3.43078 (sup 3.42937 + pf 0.02813)\n",
            "Epoch 027 | train total 3.26382 (sup 3.25473 + pf 0.18179) | val total 3.42871 (sup 3.42724 + pf 0.02939)\n",
            "Epoch 028 | train total 3.26314 (sup 3.25411 + pf 0.18063) | val total 3.43341 (sup 3.43159 + pf 0.03645)\n",
            "Epoch 029 | train total 3.26347 (sup 3.25421 + pf 0.18535) | val total 3.43648 (sup 3.43401 + pf 0.04937)\n",
            "Epoch 030 | train total 3.26214 (sup 3.25299 + pf 0.18312) | val total 3.43213 (sup 3.43054 + pf 0.03183)\n"
          ]
        }
      ]
    },
    {
      "cell_type": "markdown",
      "metadata": {
        "id": "RUPcZTTK5yrj"
      },
      "source": [
        "### Push-forward for EGNN"
      ]
    },
    {
      "cell_type": "code",
      "execution_count": null,
      "metadata": {
        "id": "AmlZ-ciZ5yrj"
      },
      "outputs": [],
      "source": [
        "###\n",
        " # TODO: TODO: TODO: TODO: TODO:\n",
        "        \"\"\"\n",
        "        Your code goes here\n",
        "\n",
        "        \"\"\"\n",
        "###"
      ]
    },
    {
      "cell_type": "code",
      "source": [
        "# EGNN + Push-Forward (self-contained)\n",
        "\n",
        "import os, math, torch\n",
        "import torch.nn as nn\n",
        "from torch_geometric.data import Data, DataLoader\n",
        "from torch_geometric.nn import MessagePassing\n",
        "import torch_geometric\n",
        "\n",
        "class MLP(nn.Module):\n",
        "    def __init__(self, in_dim, hidden, out_dim, num_layers=2, act=nn.SiLU):\n",
        "        super().__init__()\n",
        "        layers = []\n",
        "        dims = [in_dim] + [hidden]*(num_layers-1) + [out_dim]\n",
        "        for i in range(len(dims)-1):\n",
        "            layers.append(nn.Linear(dims[i], dims[i+1]))\n",
        "            if i < len(dims)-2:\n",
        "                layers.append(act())\n",
        "        self.net = nn.Sequential(*layers)\n",
        "    def forward(self, x): return self.net(x)\n",
        "\n",
        "class EGNNLayer(MessagePassing):\n",
        "    \"\"\"\n",
        "    E(n)-equivariant message passing:\n",
        "      m_ij = phi_e(h_i, h_j, ||x_i - x_j||^2)\n",
        "      h_i' = h_i + phi_h(h_i, sum_j m_ij)\n",
        "      x_i' = x_i + sum_j (x_i - x_j) * phi_x(m_ij) / (1 + ||x_i - x_j||)\n",
        "    Uses only relative coords and scalar distances -> rotation/reflection/translation equivariant.\n",
        "    \"\"\"\n",
        "    def __init__(self, h_dim, m_dim=64, coord_norm=True, aggr='add'):\n",
        "        super().__init__(aggr=aggr)\n",
        "        self.coord_norm = coord_norm\n",
        "        self.phi_e = MLP(in_dim=2*h_dim + 1, hidden=m_dim, out_dim=m_dim, num_layers=2)\n",
        "        self.phi_x = MLP(in_dim=m_dim, hidden=m_dim, out_dim=1, num_layers=2)\n",
        "        self.phi_h = MLP(in_dim=h_dim + m_dim, hidden=m_dim, out_dim=h_dim, num_layers=2)\n",
        "\n",
        "    def forward(self, h, x, edge_index):\n",
        "        dx, h_out = self.propagate(edge_index, x=x, h=h, size=None)\n",
        "        x = x + dx\n",
        "        h = h_out\n",
        "        return h, x\n",
        "\n",
        "    def message(self, x_i, x_j, h_i, h_j):\n",
        "        diff = x_i - x_j\n",
        "        r2 = (diff * diff).sum(dim=-1, keepdim=True)\n",
        "        m_ij = self.phi_e(torch.cat([h_i, h_j, r2], dim=-1))\n",
        "        delta_scalar = self.phi_x(m_ij)\n",
        "        if self.coord_norm:\n",
        "            r = torch.sqrt(r2 + 1e-8)\n",
        "            delta = diff * (delta_scalar / (1.0 + r))\n",
        "        else:\n",
        "            delta = diff * delta_scalar\n",
        "        return m_ij, delta\n",
        "\n",
        "    def aggregate(self, inputs, index, dim_size=None):\n",
        "        m, delta = inputs\n",
        "        if dim_size is None:\n",
        "            dim_size = int(index.max().item()) + 1 if index.numel() > 0 else 0\n",
        "        m_agg = torch.zeros((dim_size, m.size(-1)), device=m.device)\n",
        "        d_agg = torch.zeros((dim_size, delta.size(-1)), device=delta.device)\n",
        "        if index.numel() > 0:\n",
        "            m_agg.index_add_(0, index, m)\n",
        "            d_agg.index_add_(0, index, delta)\n",
        "        return m_agg, d_agg\n",
        "\n",
        "    def update(self, aggr_out, h):\n",
        "        m_agg, d_agg = aggr_out\n",
        "        h_new = self.phi_h(torch.cat([h, m_agg], dim=-1))\n",
        "        h_new = h + h_new\n",
        "        return d_agg, h_new\n",
        "\n",
        "class EGNN_AR_Model(nn.Module):\n",
        "    \"\"\"\n",
        "    EGNN autoregressive head for Boids.\n",
        "    Assumes data.x = [pos_x, pos_y, vel_x, vel_y].\n",
        "    Returns (N,4) to match your target y = [v^{t+1}_x, v^{t+1}_y, a_x, a_y].\n",
        "    \"\"\"\n",
        "    def __init__(self, coord_dim=2, feat_dim=2, h_dim=64, m_dim=64, n_layers=4, out_dim=4, edge_radius=40):\n",
        "        super().__init__()\n",
        "        self.coord_dim = coord_dim\n",
        "        self.edge_radius = edge_radius\n",
        "        self.embed = nn.Linear(feat_dim, h_dim)\n",
        "        self.layers = nn.ModuleList([EGNNLayer(h_dim=h_dim, m_dim=m_dim) for _ in range(n_layers)])\n",
        "        self.head = MLP(in_dim=h_dim, hidden=h_dim, out_dim=out_dim, num_layers=2)\n",
        "\n",
        "    def forward(self, data: Data):\n",
        "        pos = data.x[:, :self.coord_dim]\n",
        "        vel = data.x[:, self.coord_dim:]\n",
        "        h = torch.relu(self.embed(vel))\n",
        "\n",
        "        edge_index = data.edge_index\n",
        "\n",
        "        if self.edge_radius is not None and edge_index is not None and edge_index.numel() > 0:\n",
        "            with torch.no_grad():\n",
        "                diff = pos[edge_index[0]] - pos[edge_index[1]]\n",
        "                r2 = (diff * diff).sum(dim=-1)\n",
        "                keep = r2 <= (self.edge_radius ** 2)\n",
        "            edge_index = edge_index[:, keep]\n",
        "\n",
        "        for layer in self.layers:\n",
        "            h, pos = layer(h=h, x=pos, edge_index=edge_index)\n",
        "\n",
        "        out = self.head(h)\n",
        "        return out\n",
        "\n",
        "def _sample_R(apply_reflection=True, device='cpu'):\n",
        "    theta = torch.rand((), device=device) * 2 * math.pi\n",
        "    c, s = torch.cos(theta), torch.sin(theta)\n",
        "    R = torch.stack([torch.stack([ c, -s]), torch.stack([ s,  c])])  # (2,2)\n",
        "    if apply_reflection and (torch.rand((), device=device) < 0.5):\n",
        "        F = torch.tensor([[1., 0.],[0., -1.]], device=device)\n",
        "        R = F @ R\n",
        "    return R\n",
        "\n",
        "def _apply_E2_to_state(x, R, t=None, width=1000, height=1000):\n",
        "    # x: (N,4) = [pos_x, pos_y, vel_x, vel_y]\n",
        "    pos = x[:, :2] @ R.T\n",
        "    if t is not None:\n",
        "        pos = pos + t\n",
        "    vel = x[:, 2:] @ R.T\n",
        "    pos[:, 0] = pos[:, 0] % width\n",
        "    pos[:, 1] = pos[:, 1] % height\n",
        "    return torch.cat([pos, vel], dim=-1)\n",
        "\n",
        "def _apply_E2_to_output(out, R):\n",
        "\n",
        "    v_next = out[:, :2] @ R.T\n",
        "    acc    = out[:, 2:] @ R.T\n",
        "    return torch.cat([v_next, acc], dim=-1)\n",
        "\n",
        "def transform_data_E2(data: Data, width=1000, height=1000, apply_reflection=True, use_translation=True):\n",
        "    device = data.x.device\n",
        "    R = _sample_R(apply_reflection=apply_reflection, device=device)\n",
        "    t = None\n",
        "    if use_translation:\n",
        "        t = torch.tensor([torch.rand((), device=device)*width,\n",
        "                          torch.rand((), device=device)*height], device=device)\n",
        "    x_T = _apply_E2_to_state(data.x, R, t, width=width, height=height)\n",
        "    data_T = Data(x=x_T, edge_index=data.edge_index, y=getattr(data, \"y\", None))\n",
        "    if hasattr(data, \"batch\"):\n",
        "        data_T.batch = data.batch\n",
        "    return data_T, R\n",
        "\n",
        "def pushforward_step(model, data, loss_fn, lambda_pf=0.3,\n",
        "                     width=1000, height=1000,\n",
        "                     apply_reflection=True, use_translation=True):\n",
        "    \"\"\"\n",
        "    loss = MSE(model(x), y) + λ * MSE( model(T·x),  S·model(x) )\n",
        "    For EGNN we use full E(2): rotations/reflections AND translations.\n",
        "    \"\"\"\n",
        "    pred = model(data)                 # (N,4)\n",
        "    loss_sup = loss_fn(pred, data.y)\n",
        "\n",
        "    data_T, R = transform_data_E2(\n",
        "        data, width=width, height=height,\n",
        "        apply_reflection=apply_reflection, use_translation=use_translation\n",
        "    )\n",
        "    with torch.no_grad():\n",
        "        pred_ref = _apply_E2_to_output(pred, R)   # S·model(x)\n",
        "\n",
        "    pred_T = model(data_T)                        # model(T·x)\n",
        "\n",
        "    if pred_T.shape != pred_ref.shape:\n",
        "        raise RuntimeError(f\"PF shape mismatch: pred_T {pred_T.shape} vs pred_ref {pred_ref.shape}\")\n",
        "\n",
        "    loss_pf = loss_fn(pred_T, pred_ref)\n",
        "    loss = loss_sup + lambda_pf * loss_pf\n",
        "    return loss, loss_sup.detach(), loss_pf.detach()\n",
        "\n",
        "\n",
        "class PFTrainer:\n",
        "    def __init__(self, model, train_dataset, validation_dataset,\n",
        "                 batch_size=8, lr=1e-4, epochs=50,\n",
        "                 loss_fn=torch.nn.MSELoss(),\n",
        "                 lambda_pf=0.3,\n",
        "                 width=1000, height=1000,\n",
        "                 apply_reflection=True,\n",
        "                 use_translation=True,\n",
        "                 model_name=\"04-EGNN-PF.pt\"):\n",
        "        self.model = model\n",
        "        self.train_dataset = train_dataset\n",
        "        self.validation_dataset = validation_dataset\n",
        "        self.batch_size = batch_size\n",
        "        self.lr = lr\n",
        "        self.epochs = epochs\n",
        "        self.loss_fn = loss_fn\n",
        "        self.lambda_pf = lambda_pf\n",
        "        self.width = width\n",
        "        self.height = height\n",
        "        self.apply_reflection = apply_reflection\n",
        "        self.use_translation = use_translation\n",
        "        self.model_name = model_name\n",
        "\n",
        "        os.makedirs(\"../../models\", exist_ok=True)\n",
        "        self.device = torch.device('cuda' if torch.cuda.is_available() else 'cpu')\n",
        "        print(\"Using device:\", self.device)\n",
        "        self.model.to(self.device)\n",
        "        self.optimizer = torch.optim.Adam(self.model.parameters(), lr=self.lr, weight_decay=1e-5)\n",
        "\n",
        "        self.train_loader = DataLoader(self.train_dataset, batch_size=self.batch_size, shuffle=True)\n",
        "        self.val_loader   = DataLoader(self.validation_dataset,  batch_size=self.batch_size, shuffle=False)\n",
        "\n",
        "    def _run_epoch(self, loader, train=True):\n",
        "        if train: self.model.train()\n",
        "        else:     self.model.eval()\n",
        "\n",
        "        total, n = 0.0, 0\n",
        "        sup_tot, pf_tot = 0.0, 0.0\n",
        "        with torch.set_grad_enabled(train):\n",
        "            for data in loader:\n",
        "                data = data.to(self.device)\n",
        "                if train: self.optimizer.zero_grad()\n",
        "\n",
        "                loss, loss_sup, loss_pf = pushforward_step(\n",
        "                    self.model, data, self.loss_fn, lambda_pf=self.lambda_pf,\n",
        "                    width=self.width, height=self.height,\n",
        "                    apply_reflection=self.apply_reflection,\n",
        "                    use_translation=self.use_translation\n",
        "                )\n",
        "\n",
        "                if train:\n",
        "                    loss.backward()\n",
        "                    torch.nn.utils.clip_grad_norm_(self.model.parameters(), 1.0)\n",
        "                    self.optimizer.step()\n",
        "\n",
        "                total += float(loss.item())\n",
        "                sup_tot += float(loss_sup.item())\n",
        "                pf_tot  += float(loss_pf.item())\n",
        "                n += 1\n",
        "\n",
        "        return total/max(1,n), sup_tot/max(1,n), pf_tot/max(1,n)\n",
        "\n",
        "    def train_loop(self):\n",
        "        best_val = float('inf')\n",
        "        for epoch in range(1, self.epochs+1):\n",
        "            tr_all, tr_sup, tr_pf = self._run_epoch(self.train_loader, train=True)\n",
        "            va_all, va_sup, va_pf = self._run_epoch(self.val_loader, train=False)\n",
        "\n",
        "            if va_all < best_val:\n",
        "                best_val = va_all\n",
        "                torch.save(self.model.state_dict(), f\"../../models/{self.model_name}\")\n",
        "\n",
        "            print(f\"Epoch {epoch:03d} | \"\n",
        "                  f\"train total {tr_all:.5f} (sup {tr_sup:.5f} + pf {tr_pf:.5f}) | \"\n",
        "                  f\"val total {va_all:.5f} (sup {va_sup:.5f} + pf {va_pf:.5f})\")\n",
        "\n",
        "\n",
        "egnn_pf = EGNN_AR_Model(h_dim=64, m_dim=64, n_layers=4, out_dim=4, edge_radius=40)\n",
        "PFTrainer(\n",
        "    model=egnn_pf,\n",
        "    train_dataset=train_dataset,\n",
        "    validation_dataset=validation_dataset,\n",
        "    batch_size=8,\n",
        "    lr=1e-4,\n",
        "    epochs=30,\n",
        "    loss_fn=torch.nn.MSELoss(),\n",
        "    lambda_pf=0.3,\n",
        "    width=1000, height=1000,\n",
        "    apply_reflection=True,\n",
        "    use_translation=True,\n",
        "    model_name=\"04-EGNN-PF.pt\"\n",
        ").train_loop()\n",
        "\n"
      ],
      "metadata": {
        "id": "ixR-ZJfvDLhh",
        "outputId": "364a7e0e-5e20-4fd2-f1d9-9c1b29c5519d",
        "colab": {
          "base_uri": "https://localhost:8080/"
        }
      },
      "execution_count": 24,
      "outputs": [
        {
          "output_type": "stream",
          "name": "stdout",
          "text": [
            "Using device: cuda\n",
            "Epoch 001 | train total 0.19475 (sup 0.17980 + pf 0.04981) | val total 0.01134 (sup 0.01032 + pf 0.00340)\n",
            "Epoch 002 | train total 0.01030 (sup 0.00924 + pf 0.00353) | val total 0.01047 (sup 0.00965 + pf 0.00274)\n",
            "Epoch 003 | train total 0.00929 (sup 0.00858 + pf 0.00237) | val total 0.01027 (sup 0.00943 + pf 0.00280)\n",
            "Epoch 004 | train total 0.00877 (sup 0.00823 + pf 0.00178) | val total 0.01005 (sup 0.00929 + pf 0.00251)\n",
            "Epoch 005 | train total 0.00848 (sup 0.00804 + pf 0.00147) | val total 0.00871 (sup 0.00841 + pf 0.00098)\n",
            "Epoch 006 | train total 0.00830 (sup 0.00791 + pf 0.00130) | val total 0.00863 (sup 0.00837 + pf 0.00086)\n",
            "Epoch 007 | train total 0.00824 (sup 0.00787 + pf 0.00122) | val total 0.01009 (sup 0.00922 + pf 0.00288)\n",
            "Epoch 008 | train total 0.00806 (sup 0.00775 + pf 0.00106) | val total 0.00848 (sup 0.00826 + pf 0.00074)\n",
            "Epoch 009 | train total 0.00799 (sup 0.00770 + pf 0.00097) | val total 0.00889 (sup 0.00851 + pf 0.00128)\n",
            "Epoch 010 | train total 0.00795 (sup 0.00767 + pf 0.00093) | val total 0.00864 (sup 0.00838 + pf 0.00086)\n",
            "Epoch 011 | train total 0.00783 (sup 0.00759 + pf 0.00080) | val total 0.00832 (sup 0.00816 + pf 0.00054)\n",
            "Epoch 012 | train total 0.00781 (sup 0.00757 + pf 0.00077) | val total 0.00861 (sup 0.00836 + pf 0.00084)\n",
            "Epoch 013 | train total 0.00781 (sup 0.00757 + pf 0.00077) | val total 0.00840 (sup 0.00821 + pf 0.00065)\n",
            "Epoch 014 | train total 0.00779 (sup 0.00756 + pf 0.00075) | val total 0.00844 (sup 0.00823 + pf 0.00070)\n",
            "Epoch 015 | train total 0.00772 (sup 0.00751 + pf 0.00069) | val total 0.00830 (sup 0.00815 + pf 0.00048)\n",
            "Epoch 016 | train total 0.00768 (sup 0.00749 + pf 0.00064) | val total 0.00835 (sup 0.00817 + pf 0.00060)\n",
            "Epoch 017 | train total 0.00771 (sup 0.00751 + pf 0.00066) | val total 0.00824 (sup 0.00809 + pf 0.00050)\n",
            "Epoch 018 | train total 0.00767 (sup 0.00748 + pf 0.00064) | val total 0.00862 (sup 0.00833 + pf 0.00097)\n",
            "Epoch 019 | train total 0.00764 (sup 0.00746 + pf 0.00060) | val total 0.00829 (sup 0.00812 + pf 0.00056)\n",
            "Epoch 020 | train total 0.00762 (sup 0.00744 + pf 0.00058) | val total 0.00820 (sup 0.00808 + pf 0.00041)\n",
            "Epoch 021 | train total 0.00760 (sup 0.00743 + pf 0.00056) | val total 0.00889 (sup 0.00853 + pf 0.00121)\n",
            "Epoch 022 | train total 0.00758 (sup 0.00741 + pf 0.00056) | val total 0.00818 (sup 0.00807 + pf 0.00039)\n",
            "Epoch 023 | train total 0.00758 (sup 0.00741 + pf 0.00056) | val total 0.00836 (sup 0.00818 + pf 0.00062)\n",
            "Epoch 024 | train total 0.00758 (sup 0.00741 + pf 0.00057) | val total 0.00826 (sup 0.00810 + pf 0.00054)\n",
            "Epoch 025 | train total 0.00757 (sup 0.00740 + pf 0.00055) | val total 0.00820 (sup 0.00806 + pf 0.00046)\n",
            "Epoch 026 | train total 0.00756 (sup 0.00739 + pf 0.00054) | val total 0.00893 (sup 0.00856 + pf 0.00123)\n",
            "Epoch 027 | train total 0.00755 (sup 0.00739 + pf 0.00053) | val total 0.00813 (sup 0.00801 + pf 0.00039)\n",
            "Epoch 028 | train total 0.00754 (sup 0.00738 + pf 0.00053) | val total 0.00872 (sup 0.00843 + pf 0.00097)\n",
            "Epoch 029 | train total 0.00753 (sup 0.00737 + pf 0.00052) | val total 0.00814 (sup 0.00801 + pf 0.00043)\n",
            "Epoch 030 | train total 0.00752 (sup 0.00737 + pf 0.00052) | val total 0.00813 (sup 0.00800 + pf 0.00042)\n"
          ]
        }
      ]
    },
    {
      "cell_type": "code",
      "source": [
        "device = 'cuda' if torch.cuda.is_available() else 'cpu'\n",
        "egnn_pf_best = EGNN_AR_Model(h_dim=64, m_dim=64, n_layers=4, out_dim=4, edge_radius=40).to(device)\n",
        "egnn_pf_best.load_state_dict(torch.load(\"../../models/04-EGNN-PF.pt\", map_location=device))\n",
        "egnn_pf_best.eval()\n"
      ],
      "metadata": {
        "id": "MpJlrxCt2DXx",
        "outputId": "13d4e128-a0cf-4d78-a84e-faae093fe991",
        "colab": {
          "base_uri": "https://localhost:8080/"
        }
      },
      "execution_count": 25,
      "outputs": [
        {
          "output_type": "execute_result",
          "data": {
            "text/plain": [
              "EGNN_AR_Model(\n",
              "  (embed): Linear(in_features=2, out_features=64, bias=True)\n",
              "  (layers): ModuleList(\n",
              "    (0-3): 4 x EGNNLayer()\n",
              "  )\n",
              "  (head): MLP(\n",
              "    (net): Sequential(\n",
              "      (0): Linear(in_features=64, out_features=64, bias=True)\n",
              "      (1): SiLU()\n",
              "      (2): Linear(in_features=64, out_features=4, bias=True)\n",
              "    )\n",
              "  )\n",
              ")"
            ]
          },
          "metadata": {},
          "execution_count": 25
        }
      ]
    },
    {
      "cell_type": "code",
      "source": [
        "\n",
        "import torch, matplotlib.pyplot as plt\n",
        "\n",
        "device = 'cuda' if torch.cuda.is_available() else 'cpu'\n",
        "\n",
        "\n",
        "if 'dists_GT' not in globals():\n",
        "    raise RuntimeError(\"Please run the cell that loads validation_trajectories and defines dists_GT first.\")\n",
        "\n",
        "\n",
        "if 'roll_egnn' not in globals():\n",
        "    egnn_no_pf = EGNN_AR_Model(h_dim=64, m_dim=64, n_layers=4, out_dim=4, edge_radius=40).to(device)\n",
        "    egnn_no_pf.load_state_dict(torch.load(\"../../models/EGNN-NoPF.pt\", map_location=device))\n",
        "    egnn_no_pf.eval()\n",
        "    roll_egnn = compute_ar_set_model_rollouts(\n",
        "        egnn_no_pf, initial_states_validation_dataset, timesteps=1000, device=device\n",
        "    )\n",
        "\n",
        "if 'roll_pf' not in globals():\n",
        "    egnn_pf_best = EGNN_AR_Model(h_dim=64, m_dim=64, n_layers=4, out_dim=4, edge_radius=40).to(device)\n",
        "    egnn_pf_best.load_state_dict(torch.load(\"../../models/04-EGNN-PF.pt\", map_location=device))\n",
        "    egnn_pf_best.eval()\n",
        "    roll_pf = compute_ar_set_model_rollouts(\n",
        "        egnn_pf_best, initial_states_validation_dataset, timesteps=1000, device=device\n",
        "    )\n",
        "\n",
        "kl_EGNN = kl_curve(\n",
        "    compute_velocity_distributions(roll_egnn[:,:,:,2:]),\n",
        "    dists_GT\n",
        ")\n",
        "kl_PF = kl_curve(\n",
        "    compute_velocity_distributions(roll_pf[:,:,:,2:]),\n",
        "    dists_GT\n",
        ")\n",
        "\n",
        "plt.figure(figsize=(8,3))\n",
        "plt.plot(kl_EGNN.detach().cpu().numpy(), label=\"EGNN (no PF)\")\n",
        "plt.plot(kl_PF.detach().cpu().numpy(),   label=\"EGNN + PF\")\n",
        "plt.xlabel(\"Timestep\"); plt.ylabel(\"D_KL (Q || P)\")\n",
        "plt.title(\"KL: EGNN (no PF) vs EGNN + PF\")\n",
        "plt.legend()\n",
        "plt.tight_layout()\n",
        "plt.show()\n",
        "\n",
        "print(\"Mean KL (EGNN no PF):\", float(kl_EGNN.mean()))\n",
        "print(\"Mean KL (EGNN + PF):\", float(kl_PF.mean()))\n",
        "\n"
      ],
      "metadata": {
        "id": "C1PlAm4f2FUm",
        "outputId": "1e4e0272-1c33-4dac-bdfc-5de757169b27",
        "colab": {
          "base_uri": "https://localhost:8080/",
          "height": 342
        }
      },
      "execution_count": 34,
      "outputs": [
        {
          "output_type": "display_data",
          "data": {
            "text/plain": [
              "<Figure size 800x300 with 1 Axes>"
            ],
            "image/png": "[encoded data removed]"
          },
          "metadata": {}
        },
        {
          "output_type": "stream",
          "name": "stdout",
          "text": [
            "Mean KL (EGNN no PF): 1.8044956922531128\n",
            "Mean KL (EGNN + PF): 1.4502564668655396\n"
          ]
        }
      ]
    },
    {
      "cell_type": "markdown",
      "metadata": {
        "id": "8IYMKtNt5yrj"
      },
      "source": [
        "## Evaluating scientific AI models\n",
        "\n",
        "The Boids simulations are very sensitive to changes in the initial state. Slight changes in the initial state can lead to drastically different final states. Similarly, emulations (the neural network predictions) can accumulate errors very quickly.\n",
        "\n",
        "Using MSE to compare models to the ground truth or to each other here does not account for this error accumulation. As a result, a likely generated/predicted trajectory can have high MSE.\n",
        "\n",
        "Luckily for us, there are usually better ways to evaluate models! When working in an interdisciplinary group, the physics wizards will propose a metric that should hold true even when trajectories diverge, or our predictions suffer from accumulating errors.\n",
        "\n",
        "In the Boids setting, we can investigate the distribution of velocities, since these should (hopefully) remain invariant even under diverging trajectories / error accumulation.\n",
        "\n",
        "If we plot them visually, we want to investigate how different the predicted velocity distributions are from the ground truth velocity distributions. However, since we have to investigate the distributions for each timestep, let's use the Kullback-Leibler Divergence ($D_\\text{KL}$) metric to measure the difference. For two distributions $P$ and $Q$, it is defined as follows:\n",
        "\n",
        "\n",
        "$D_\\text{KL}(P||Q) = \\int p(x) \\ln \\frac{p(x)}{q(x)} \\text{d} x $\n",
        "\n",
        "\n",
        "![KL Divergence](https://hugocisneros.com/ox-hugo/forwardvsreversedKL.jpg)\n",
        "\n",
        "\n",
        "The $D_\\text{KL}$ between two distributions $P$ and $Q$ is asymmetric, meaning $D_\\text{KL}(P||Q) \\neq D_\\text{KL}(Q||P)$, as illustrated above.\n",
        "\n",
        "Since we care more whether the predicted distribution $Q$ fits under the ground truth distribution $P$, we will use the reverse KL: $D_\\text{KL}(Q||P)$"
      ]
    },
    {
      "cell_type": "code",
      "execution_count": null,
      "metadata": {
        "id": "Y3KWWV7J5yrk"
      },
      "outputs": [],
      "source": [
        "def compare_distributions(dist1, dist2):\n",
        "    \"\"\"\n",
        "    Compare two distributions by computing the KL divergence\n",
        "\n",
        "    Args:\n",
        "        dist1: torch.distributions.Distribution\n",
        "        dist2: torch.distributions.Distribution\n",
        "    \"\"\"\n",
        "    kl = torch.distributions.kl_divergence(dist1, dist2)\n",
        "    return kl\n",
        "\n",
        "def compute_distribution_per_timestep(data, timesteps):\n",
        "    \"\"\"\n",
        "    Compute the distribution of the data per timestep\n",
        "\n",
        "    Args:\n",
        "        data: torch.Tensor of shape (T, N, 4)\n",
        "        timesteps: int, number of timesteps to compute the distribution for\n",
        "\n",
        "    Returns:\n",
        "        list of torch.distributions.Normal\n",
        "    \"\"\"\n",
        "    distributions = []\n",
        "    for t in range(timesteps):\n",
        "        # Compute the mean and std of the data\n",
        "        mean = data[:, t, :, :].mean()\n",
        "        std = data[:, t, :, :].std()\n",
        "        dist = torch.distributions.Normal(mean, std)\n",
        "        distributions.append(dist)\n",
        "    return distributions\n",
        "\n",
        "def compute_mean_kl_divergence(data, distributions):\n",
        "    \"\"\"\n",
        "    Compute the mean KL divergence between the data and the distributions\n",
        "\n",
        "    Args:\n",
        "        data: torch.Tensor of shape (T, N, 4)\n",
        "        distributions: list of torch.distributions.Normal\n",
        "\n",
        "    Returns:\n",
        "        float\n",
        "    \"\"\"\n",
        "    kl_divergences = []\n",
        "    for t in range(data.shape[0]):\n",
        "        kl = compare_distributions(distributions[t], data[t, :, :])\n",
        "        kl_divergences.append(kl)\n",
        "    return torch.tensor(kl_divergences).mean()\n",
        "\n",
        "def plot_kl_divergence(distributions1, distributions2, title=\"KL Divergence between <distributions1> and <distributions2>\"):\n",
        "    \"\"\"\n",
        "    Plot the KL divergence between the data and the distributions\n",
        "\n",
        "    Args:\n",
        "        distributions1: list of torch.distributions.Normal\n",
        "        distributions2: list of torch.distributions.Normal\n",
        "    \"\"\"\n",
        "    kl_divergences = []\n",
        "    for t in range(len(distributions1)):\n",
        "        kl = compare_distributions(distributions1[t], distributions2[t]).cpu().numpy()\n",
        "        kl_divergences.append(kl)\n",
        "\n",
        "\n",
        "    plt.plot(kl_divergences)\n",
        "    plt.xlabel(\"Timestep\")\n",
        "    plt.ylabel(\"KL Divergence\")\n",
        "    plt.title(title)\n",
        "    plt.show()"
      ]
    },
    {
      "cell_type": "code",
      "execution_count": null,
      "metadata": {
        "id": "GTqBXbxY5yrk"
      },
      "outputs": [],
      "source": [
        "validation_files = [pfn for pfn in os.listdir(\"../../data/boids/raw/\") if (16 <= int(pfn.split(\"_\")[-1][:-4]) < 25)]\n",
        "validation_trajectories = [np.load(\"../../data/boids/raw/\" + f) for f in validation_files]\n",
        "validation_trajectories = torch.tensor(validation_trajectories, dtype=torch.float)\n",
        "\n",
        "dists_GT = compute_distribution_per_timestep(validation_trajectories[:,:,:,2:], 1000)\n",
        "dists_AR_set = compute_distribution_per_timestep(ar_set_model_rollout[:,:,:,2:], 1000)\n",
        "plot_kl_divergence(dists_AR_set, dists_GT, title=\"KL Divergence between AR Set Model velocities and the GT velocities per timestep\")\n",
        "\n"
      ]
    },
    {
      "cell_type": "code",
      "execution_count": null,
      "metadata": {
        "id": "9kUJgcRM5yrk"
      },
      "outputs": [],
      "source": [
        "dists_equivariant = compute_distribution_per_timestep(translational_equivariant_model_rollout, 1000)\n",
        "plot_kl_divergence(dists_equivariant, dists_GT, title=\"KL Divergence between Translational Equivariant Model velocities and the GT velocities per timestep\")"
      ]
    },
    {
      "cell_type": "markdown",
      "metadata": {
        "id": "Dm4xlgSf5yrk"
      },
      "source": [
        "# References\n",
        "\n",
        "[1] Minartz, K., Poels, Y., Koop, S., & Menkovski, V. (2023). Equivariant Neural Simulators for Stochastic Spatiotemporal Dynamics. https://openreview.net/forum?id=CCVsGbhFdj\n",
        "\n",
        "[2] Reynolds, C. W. (1987) Flocks, Herds, and Schools: A Distributed Behavioral Model, in Computer Graphics, 21(4) (SIGGRAPH '87 Conference Proceedings) pages 25-34.\n",
        "\n",
        "[3] Satorras, V. G., Hoogeboom, E., & Welling, M. (2021, July). E (n) equivariant graph neural networks. In International conference on machine learning (pp. 9323-9332). PMLR."
      ]
    }
  ],
  "metadata": {
    "kernelspec": {
      "display_name": "Python 3",
      "name": "python3"
    },
    "language_info": {
      "codemirror_mode": {
        "name": "ipython",
        "version": 3
      },
      "file_extension": ".py",
      "mimetype": "text/x-python",
      "name": "python",
      "nbconvert_exporter": "python",
      "pygments_lexer": "ipython3",
      "version": "3.11.5"
    },
    "colab": {
      "provenance": [],
      "gpuType": "T4"
    },
    "accelerator": "GPU"
  },
  "nbformat": 4,
  "nbformat_minor": 0
}